{
 "cells": [
  {
   "cell_type": "markdown",
   "metadata": {},
   "source": [
    "# Описание проекта"
   ]
  },
  {
   "cell_type": "markdown",
   "metadata": {},
   "source": [
    "Интернет-магазин хочет повысить эффективность работы с целью увеличения выручки.\n",
    "\n",
    "Задачи проекта:\n",
    "- приоритизировать гипотезы \n",
    "- запустить A/B-тест\n",
    "- проанализировать результаты"
   ]
  },
  {
   "cell_type": "markdown",
   "metadata": {},
   "source": [
    "# Исходные данные"
   ]
  },
  {
   "cell_type": "markdown",
   "metadata": {},
   "source": [
    "Список гипотез (файл hypothesis.csv)\n",
    "\n",
    "- Hypothesis — краткое описание гипотезы\n",
    "- Reach — охват пользователей по 10-балльной шкале\n",
    "- Impact — влияние на пользователей по 10-балльной шкале\n",
    "- Confidence — уверенность в гипотезе по 10-балльной шкале\n",
    "- Efforts — затраты ресурсов на проверку гипотезы по 10-балльной шкале\n",
    "\n",
    "Информация о заказах пользователей в интернет-магазине (файл orders.csv)\n",
    "\n",
    "- transactionId — идентификатор заказа\n",
    "- visitorId — идентификатор пользователя, совершившего заказ\n",
    "- date — дата, когда был совершён заказ\n",
    "- revenue — выручка заказа\n",
    "- group — группа A/B-теста, в которую попал заказ\n",
    "\n",
    "Информация о посещениях пользователями интернет-магазина (файл visitors.csv)\n",
    "\n",
    "- date — дата\n",
    "- group — группа A/B-теста\n",
    "- visitors — количество пользователей в указанную дату в указанной группе A/B-теста"
   ]
  },
  {
   "cell_type": "markdown",
   "metadata": {},
   "source": [
    "# Ход исследования"
   ]
  },
  {
   "cell_type": "markdown",
   "metadata": {},
   "source": [
    "- Первый этап - приотеризация гипотез\n",
    "- Второе этап - A/B-тестирование: предобработка данных, запуск тестирования, анализ результатов"
   ]
  },
  {
   "cell_type": "markdown",
   "metadata": {},
   "source": [
    "Загрузим нужные для работы библиотеки"
   ]
  },
  {
   "cell_type": "code",
   "execution_count": 13,
   "metadata": {},
   "outputs": [],
   "source": [
    "import pandas as pd\n",
    "import datetime as dt\n",
    "import numpy as np\n",
    "import matplotlib\n",
    "import matplotlib.pyplot as plt\n",
    "import matplotlib.lines as mlines\n",
    "from pandas.plotting import register_matplotlib_converters\n",
    "import warnings\n",
    "register_matplotlib_converters()\n",
    "import scipy.stats as stats"
   ]
  },
  {
   "cell_type": "markdown",
   "metadata": {},
   "source": [
    "Чтобы прочитать гипотезы корректно установим комфортную ширину столбца"
   ]
  },
  {
   "cell_type": "code",
   "execution_count": 14,
   "metadata": {},
   "outputs": [],
   "source": [
    "pd.options.display.max_colwidth = 200"
   ]
  },
  {
   "cell_type": "markdown",
   "metadata": {},
   "source": [
    "## Часть 1. Приоритизация гипотез"
   ]
  },
  {
   "cell_type": "markdown",
   "metadata": {},
   "source": [
    "В файле /datasets/hypothesis.csv 9 гипотез по увеличению выручки интернет-магазина с указанными параметрами Reach, Impact, Confidence, Effort.\n",
    "Задача:\n",
    "\n",
    "- Примените фреймворк ICE для приоритизации гипотез. Отсортируйте их по убыванию приоритета.\n",
    "- Примените фреймворк RICE для приоритизации гипотез. Отсортируйте их по убыванию приоритета.\n",
    "- Укажите, как изменилась приоритизация гипотез при применении RICE вместо ICE. Объясните, почему так произошло."
   ]
  },
  {
   "cell_type": "markdown",
   "metadata": {},
   "source": [
    "Для начала загрузим датафрейм с гипотезами и выведем его на экран."
   ]
  },
  {
   "cell_type": "code",
   "execution_count": 15,
   "metadata": {},
   "outputs": [
    {
     "data": {
      "text/html": [
       "<div>\n",
       "<style scoped>\n",
       "    .dataframe tbody tr th:only-of-type {\n",
       "        vertical-align: middle;\n",
       "    }\n",
       "\n",
       "    .dataframe tbody tr th {\n",
       "        vertical-align: top;\n",
       "    }\n",
       "\n",
       "    .dataframe thead th {\n",
       "        text-align: right;\n",
       "    }\n",
       "</style>\n",
       "<table border=\"1\" class=\"dataframe\">\n",
       "  <thead>\n",
       "    <tr style=\"text-align: right;\">\n",
       "      <th></th>\n",
       "      <th>Hypothesis</th>\n",
       "      <th>Reach</th>\n",
       "      <th>Impact</th>\n",
       "      <th>Confidence</th>\n",
       "      <th>Efforts</th>\n",
       "    </tr>\n",
       "  </thead>\n",
       "  <tbody>\n",
       "    <tr>\n",
       "      <th>0</th>\n",
       "      <td>Добавить два новых канала привлечения трафика, что позволит привлекать на 30% больше пользователей</td>\n",
       "      <td>3</td>\n",
       "      <td>10</td>\n",
       "      <td>8</td>\n",
       "      <td>6</td>\n",
       "    </tr>\n",
       "    <tr>\n",
       "      <th>1</th>\n",
       "      <td>Запустить собственную службу доставки, что сократит срок доставки заказов</td>\n",
       "      <td>2</td>\n",
       "      <td>5</td>\n",
       "      <td>4</td>\n",
       "      <td>10</td>\n",
       "    </tr>\n",
       "    <tr>\n",
       "      <th>2</th>\n",
       "      <td>Добавить блоки рекомендаций товаров на сайт интернет магазина, чтобы повысить конверсию и средний чек заказа</td>\n",
       "      <td>8</td>\n",
       "      <td>3</td>\n",
       "      <td>7</td>\n",
       "      <td>3</td>\n",
       "    </tr>\n",
       "    <tr>\n",
       "      <th>3</th>\n",
       "      <td>Изменить структура категорий, что увеличит конверсию, т.к. пользователи быстрее найдут нужный товар</td>\n",
       "      <td>8</td>\n",
       "      <td>3</td>\n",
       "      <td>3</td>\n",
       "      <td>8</td>\n",
       "    </tr>\n",
       "    <tr>\n",
       "      <th>4</th>\n",
       "      <td>Изменить цвет фона главной страницы, чтобы увеличить вовлеченность пользователей</td>\n",
       "      <td>3</td>\n",
       "      <td>1</td>\n",
       "      <td>1</td>\n",
       "      <td>1</td>\n",
       "    </tr>\n",
       "    <tr>\n",
       "      <th>5</th>\n",
       "      <td>Добавить страницу отзывов клиентов о магазине, что позволит увеличить количество заказов</td>\n",
       "      <td>3</td>\n",
       "      <td>2</td>\n",
       "      <td>2</td>\n",
       "      <td>3</td>\n",
       "    </tr>\n",
       "    <tr>\n",
       "      <th>6</th>\n",
       "      <td>Показать на главной странице баннеры с актуальными акциями и распродажами, чтобы увеличить конверсию</td>\n",
       "      <td>5</td>\n",
       "      <td>3</td>\n",
       "      <td>8</td>\n",
       "      <td>3</td>\n",
       "    </tr>\n",
       "    <tr>\n",
       "      <th>7</th>\n",
       "      <td>Добавить форму подписки на все основные страницы, чтобы собрать базу клиентов для email-рассылок</td>\n",
       "      <td>10</td>\n",
       "      <td>7</td>\n",
       "      <td>8</td>\n",
       "      <td>5</td>\n",
       "    </tr>\n",
       "    <tr>\n",
       "      <th>8</th>\n",
       "      <td>Запустить акцию, дающую скидку на товар в день рождения</td>\n",
       "      <td>1</td>\n",
       "      <td>9</td>\n",
       "      <td>9</td>\n",
       "      <td>5</td>\n",
       "    </tr>\n",
       "  </tbody>\n",
       "</table>\n",
       "</div>"
      ],
      "text/plain": [
       "                                                                                                     Hypothesis  \\\n",
       "0            Добавить два новых канала привлечения трафика, что позволит привлекать на 30% больше пользователей   \n",
       "1                                     Запустить собственную службу доставки, что сократит срок доставки заказов   \n",
       "2  Добавить блоки рекомендаций товаров на сайт интернет магазина, чтобы повысить конверсию и средний чек заказа   \n",
       "3           Изменить структура категорий, что увеличит конверсию, т.к. пользователи быстрее найдут нужный товар   \n",
       "4                              Изменить цвет фона главной страницы, чтобы увеличить вовлеченность пользователей   \n",
       "5                      Добавить страницу отзывов клиентов о магазине, что позволит увеличить количество заказов   \n",
       "6          Показать на главной странице баннеры с актуальными акциями и распродажами, чтобы увеличить конверсию   \n",
       "7              Добавить форму подписки на все основные страницы, чтобы собрать базу клиентов для email-рассылок   \n",
       "8                                                       Запустить акцию, дающую скидку на товар в день рождения   \n",
       "\n",
       "   Reach  Impact  Confidence  Efforts  \n",
       "0      3      10           8        6  \n",
       "1      2       5           4       10  \n",
       "2      8       3           7        3  \n",
       "3      8       3           3        8  \n",
       "4      3       1           1        1  \n",
       "5      3       2           2        3  \n",
       "6      5       3           8        3  \n",
       "7     10       7           8        5  \n",
       "8      1       9           9        5  "
      ]
     },
     "metadata": {},
     "output_type": "display_data"
    }
   ],
   "source": [
    "try:\n",
    "    data_h = pd.read_csv('/datasets/hypothesis.csv', sep=',')\n",
    "\n",
    "except:\n",
    "    data_h = pd.read_csv('/Users/damayboroda/study/data_for_projects/hypothesis.csv', sep=',')\n",
    "\n",
    "display(data_h)"
   ]
  },
  {
   "cell_type": "markdown",
   "metadata": {},
   "source": [
    "### Фреймворк ICE для приоритизации гипотез"
   ]
  },
  {
   "cell_type": "code",
   "execution_count": 16,
   "metadata": {},
   "outputs": [],
   "source": [
    "data_h['ICE'] = (data_h['Impact'] * data_h['Confidence']) / data_h['Efforts']"
   ]
  },
  {
   "cell_type": "code",
   "execution_count": 17,
   "metadata": {},
   "outputs": [
    {
     "data": {
      "text/html": [
       "<style type=\"text/css\">\n",
       "#T_987d4_row0_col1 {\n",
       "  background-color: #fcffa4;\n",
       "  color: #000000;\n",
       "}\n",
       "#T_987d4_row1_col1 {\n",
       "  background-color: #fcaa0f;\n",
       "  color: #000000;\n",
       "}\n",
       "#T_987d4_row2_col1 {\n",
       "  background-color: #ee6a24;\n",
       "  color: #f1f1f1;\n",
       "}\n",
       "#T_987d4_row3_col1 {\n",
       "  background-color: #ab2f5e;\n",
       "  color: #f1f1f1;\n",
       "}\n",
       "#T_987d4_row4_col1 {\n",
       "  background-color: #922568;\n",
       "  color: #f1f1f1;\n",
       "}\n",
       "#T_987d4_row5_col1 {\n",
       "  background-color: #0b0724;\n",
       "  color: #f1f1f1;\n",
       "}\n",
       "#T_987d4_row6_col1 {\n",
       "  background-color: #02020c;\n",
       "  color: #f1f1f1;\n",
       "}\n",
       "#T_987d4_row7_col1 {\n",
       "  background-color: #010106;\n",
       "  color: #f1f1f1;\n",
       "}\n",
       "#T_987d4_row8_col1 {\n",
       "  background-color: #000004;\n",
       "  color: #f1f1f1;\n",
       "}\n",
       "</style>\n",
       "<table id=\"T_987d4\">\n",
       "  <thead>\n",
       "    <tr>\n",
       "      <th class=\"blank level0\" >&nbsp;</th>\n",
       "      <th id=\"T_987d4_level0_col0\" class=\"col_heading level0 col0\" >Hypothesis</th>\n",
       "      <th id=\"T_987d4_level0_col1\" class=\"col_heading level0 col1\" >ICE</th>\n",
       "    </tr>\n",
       "  </thead>\n",
       "  <tbody>\n",
       "    <tr>\n",
       "      <th id=\"T_987d4_level0_row0\" class=\"row_heading level0 row0\" >8</th>\n",
       "      <td id=\"T_987d4_row0_col0\" class=\"data row0 col0\" >Запустить акцию, дающую скидку на товар в день рождения</td>\n",
       "      <td id=\"T_987d4_row0_col1\" class=\"data row0 col1\" >16.200000</td>\n",
       "    </tr>\n",
       "    <tr>\n",
       "      <th id=\"T_987d4_level0_row1\" class=\"row_heading level0 row1\" >0</th>\n",
       "      <td id=\"T_987d4_row1_col0\" class=\"data row1 col0\" >Добавить два новых канала привлечения трафика, что позволит привлекать на 30% больше пользователей</td>\n",
       "      <td id=\"T_987d4_row1_col1\" class=\"data row1 col1\" >13.333333</td>\n",
       "    </tr>\n",
       "    <tr>\n",
       "      <th id=\"T_987d4_level0_row2\" class=\"row_heading level0 row2\" >7</th>\n",
       "      <td id=\"T_987d4_row2_col0\" class=\"data row2 col0\" >Добавить форму подписки на все основные страницы, чтобы собрать базу клиентов для email-рассылок</td>\n",
       "      <td id=\"T_987d4_row2_col1\" class=\"data row2 col1\" >11.200000</td>\n",
       "    </tr>\n",
       "    <tr>\n",
       "      <th id=\"T_987d4_level0_row3\" class=\"row_heading level0 row3\" >6</th>\n",
       "      <td id=\"T_987d4_row3_col0\" class=\"data row3 col0\" >Показать на главной странице баннеры с актуальными акциями и распродажами, чтобы увеличить конверсию</td>\n",
       "      <td id=\"T_987d4_row3_col1\" class=\"data row3 col1\" >8.000000</td>\n",
       "    </tr>\n",
       "    <tr>\n",
       "      <th id=\"T_987d4_level0_row4\" class=\"row_heading level0 row4\" >2</th>\n",
       "      <td id=\"T_987d4_row4_col0\" class=\"data row4 col0\" >Добавить блоки рекомендаций товаров на сайт интернет магазина, чтобы повысить конверсию и средний чек заказа</td>\n",
       "      <td id=\"T_987d4_row4_col1\" class=\"data row4 col1\" >7.000000</td>\n",
       "    </tr>\n",
       "    <tr>\n",
       "      <th id=\"T_987d4_level0_row5\" class=\"row_heading level0 row5\" >1</th>\n",
       "      <td id=\"T_987d4_row5_col0\" class=\"data row5 col0\" >Запустить собственную службу доставки, что сократит срок доставки заказов</td>\n",
       "      <td id=\"T_987d4_row5_col1\" class=\"data row5 col1\" >2.000000</td>\n",
       "    </tr>\n",
       "    <tr>\n",
       "      <th id=\"T_987d4_level0_row6\" class=\"row_heading level0 row6\" >5</th>\n",
       "      <td id=\"T_987d4_row6_col0\" class=\"data row6 col0\" >Добавить страницу отзывов клиентов о магазине, что позволит увеличить количество заказов</td>\n",
       "      <td id=\"T_987d4_row6_col1\" class=\"data row6 col1\" >1.333333</td>\n",
       "    </tr>\n",
       "    <tr>\n",
       "      <th id=\"T_987d4_level0_row7\" class=\"row_heading level0 row7\" >3</th>\n",
       "      <td id=\"T_987d4_row7_col0\" class=\"data row7 col0\" >Изменить структура категорий, что увеличит конверсию, т.к. пользователи быстрее найдут нужный товар</td>\n",
       "      <td id=\"T_987d4_row7_col1\" class=\"data row7 col1\" >1.125000</td>\n",
       "    </tr>\n",
       "    <tr>\n",
       "      <th id=\"T_987d4_level0_row8\" class=\"row_heading level0 row8\" >4</th>\n",
       "      <td id=\"T_987d4_row8_col0\" class=\"data row8 col0\" >Изменить цвет фона главной страницы, чтобы увеличить вовлеченность пользователей</td>\n",
       "      <td id=\"T_987d4_row8_col1\" class=\"data row8 col1\" >1.000000</td>\n",
       "    </tr>\n",
       "  </tbody>\n",
       "</table>\n"
      ],
      "text/plain": [
       "<pandas.io.formats.style.Styler at 0x7f8ee0eb8d00>"
      ]
     },
     "metadata": {},
     "output_type": "display_data"
    }
   ],
   "source": [
    "display(data_h[['Hypothesis', 'ICE']].sort_values(by='ICE', ascending=False).style.background_gradient(subset='ICE', cmap='inferno'))"
   ]
  },
  {
   "cell_type": "markdown",
   "metadata": {},
   "source": [
    "### Фреймворк RICE для приоритизации гипотез"
   ]
  },
  {
   "cell_type": "code",
   "execution_count": 18,
   "metadata": {},
   "outputs": [],
   "source": [
    "data_h['RICE']= (data_h['Reach'] * data_h['Impact'] * data_h['Confidence']) / data_h['Efforts']"
   ]
  },
  {
   "cell_type": "code",
   "execution_count": 19,
   "metadata": {},
   "outputs": [
    {
     "data": {
      "text/html": [
       "<style type=\"text/css\">\n",
       "#T_39cd7_row0_col1 {\n",
       "  background-color: #ff00ff;\n",
       "  color: #f1f1f1;\n",
       "}\n",
       "#T_39cd7_row1_col1 {\n",
       "  background-color: #7c83ff;\n",
       "  color: #f1f1f1;\n",
       "}\n",
       "#T_39cd7_row2_col1, #T_39cd7_row3_col1 {\n",
       "  background-color: #56a9ff;\n",
       "  color: #f1f1f1;\n",
       "}\n",
       "#T_39cd7_row4_col1 {\n",
       "  background-color: #1fe0ff;\n",
       "  color: #000000;\n",
       "}\n",
       "#T_39cd7_row5_col1 {\n",
       "  background-color: #0ef1ff;\n",
       "  color: #000000;\n",
       "}\n",
       "#T_39cd7_row6_col1, #T_39cd7_row7_col1 {\n",
       "  background-color: #02fdff;\n",
       "  color: #000000;\n",
       "}\n",
       "#T_39cd7_row8_col1 {\n",
       "  background-color: #00ffff;\n",
       "  color: #000000;\n",
       "}\n",
       "</style>\n",
       "<table id=\"T_39cd7\">\n",
       "  <thead>\n",
       "    <tr>\n",
       "      <th class=\"blank level0\" >&nbsp;</th>\n",
       "      <th id=\"T_39cd7_level0_col0\" class=\"col_heading level0 col0\" >Hypothesis</th>\n",
       "      <th id=\"T_39cd7_level0_col1\" class=\"col_heading level0 col1\" >RICE</th>\n",
       "    </tr>\n",
       "  </thead>\n",
       "  <tbody>\n",
       "    <tr>\n",
       "      <th id=\"T_39cd7_level0_row0\" class=\"row_heading level0 row0\" >0</th>\n",
       "      <td id=\"T_39cd7_row0_col0\" class=\"data row0 col0\" >Добавить форму подписки на все основные страницы, чтобы собрать базу клиентов для email-рассылок</td>\n",
       "      <td id=\"T_39cd7_row0_col1\" class=\"data row0 col1\" >112.000000</td>\n",
       "    </tr>\n",
       "    <tr>\n",
       "      <th id=\"T_39cd7_level0_row1\" class=\"row_heading level0 row1\" >1</th>\n",
       "      <td id=\"T_39cd7_row1_col0\" class=\"data row1 col0\" >Добавить блоки рекомендаций товаров на сайт интернет магазина, чтобы повысить конверсию и средний чек заказа</td>\n",
       "      <td id=\"T_39cd7_row1_col1\" class=\"data row1 col1\" >56.000000</td>\n",
       "    </tr>\n",
       "    <tr>\n",
       "      <th id=\"T_39cd7_level0_row2\" class=\"row_heading level0 row2\" >2</th>\n",
       "      <td id=\"T_39cd7_row2_col0\" class=\"data row2 col0\" >Добавить два новых канала привлечения трафика, что позволит привлекать на 30% больше пользователей</td>\n",
       "      <td id=\"T_39cd7_row2_col1\" class=\"data row2 col1\" >40.000000</td>\n",
       "    </tr>\n",
       "    <tr>\n",
       "      <th id=\"T_39cd7_level0_row3\" class=\"row_heading level0 row3\" >3</th>\n",
       "      <td id=\"T_39cd7_row3_col0\" class=\"data row3 col0\" >Показать на главной странице баннеры с актуальными акциями и распродажами, чтобы увеличить конверсию</td>\n",
       "      <td id=\"T_39cd7_row3_col1\" class=\"data row3 col1\" >40.000000</td>\n",
       "    </tr>\n",
       "    <tr>\n",
       "      <th id=\"T_39cd7_level0_row4\" class=\"row_heading level0 row4\" >4</th>\n",
       "      <td id=\"T_39cd7_row4_col0\" class=\"data row4 col0\" >Запустить акцию, дающую скидку на товар в день рождения</td>\n",
       "      <td id=\"T_39cd7_row4_col1\" class=\"data row4 col1\" >16.200000</td>\n",
       "    </tr>\n",
       "    <tr>\n",
       "      <th id=\"T_39cd7_level0_row5\" class=\"row_heading level0 row5\" >5</th>\n",
       "      <td id=\"T_39cd7_row5_col0\" class=\"data row5 col0\" >Изменить структура категорий, что увеличит конверсию, т.к. пользователи быстрее найдут нужный товар</td>\n",
       "      <td id=\"T_39cd7_row5_col1\" class=\"data row5 col1\" >9.000000</td>\n",
       "    </tr>\n",
       "    <tr>\n",
       "      <th id=\"T_39cd7_level0_row6\" class=\"row_heading level0 row6\" >6</th>\n",
       "      <td id=\"T_39cd7_row6_col0\" class=\"data row6 col0\" >Запустить собственную службу доставки, что сократит срок доставки заказов</td>\n",
       "      <td id=\"T_39cd7_row6_col1\" class=\"data row6 col1\" >4.000000</td>\n",
       "    </tr>\n",
       "    <tr>\n",
       "      <th id=\"T_39cd7_level0_row7\" class=\"row_heading level0 row7\" >7</th>\n",
       "      <td id=\"T_39cd7_row7_col0\" class=\"data row7 col0\" >Добавить страницу отзывов клиентов о магазине, что позволит увеличить количество заказов</td>\n",
       "      <td id=\"T_39cd7_row7_col1\" class=\"data row7 col1\" >4.000000</td>\n",
       "    </tr>\n",
       "    <tr>\n",
       "      <th id=\"T_39cd7_level0_row8\" class=\"row_heading level0 row8\" >8</th>\n",
       "      <td id=\"T_39cd7_row8_col0\" class=\"data row8 col0\" >Изменить цвет фона главной страницы, чтобы увеличить вовлеченность пользователей</td>\n",
       "      <td id=\"T_39cd7_row8_col1\" class=\"data row8 col1\" >3.000000</td>\n",
       "    </tr>\n",
       "  </tbody>\n",
       "</table>\n"
      ],
      "text/plain": [
       "<pandas.io.formats.style.Styler at 0x7f8ee0ec4970>"
      ]
     },
     "metadata": {},
     "output_type": "display_data"
    }
   ],
   "source": [
    "display(data_h[['Hypothesis', 'RICE']].sort_values(by='RICE', ascending=False).reset_index(drop=True).style.background_gradient(subset='RICE', cmap='cool'))"
   ]
  },
  {
   "cell_type": "markdown",
   "metadata": {},
   "source": [
    "### Объединенные фреймворки для приоретизации гипотез"
   ]
  },
  {
   "cell_type": "markdown",
   "metadata": {},
   "source": [
    "### Выводы по приоритизации гипотез"
   ]
  },
  {
   "cell_type": "markdown",
   "metadata": {},
   "source": [
    "У нас поменялась первая тройка гипотез, если сравнивать фреймворки ICE и RICE.\n",
    "- Гипотеза 8 была №1 в ICE, стала только № 5 в RICE. В RICE № 1 - гипотеза 7 с уверенным отрывом (в 2 раза) от других.\n",
    "- Гипотеза 0 была № 2 в ICE, опустилась на строку в RICE и стала № 3. В RICE № 2 - гипотеза 2.\n",
    "- Гипотеза 7 была № 3 в ICE, стала № 1 в RICE.\n",
    "\n",
    "Исходя из обоих фреймворков гипотезы 7,2,0,6,8 более приоритетны, гипотезы 3,1,5,4 - менее приоритетны.\n",
    "Изменения в приоритизации связаны в первую очередь со значением параметра Reach. Чем больше охват - тем больше приоритезация. \n",
    "Действительно, гипотеза 8 (Запустить акцию, дающую скидку на товар в день рождения) имеет параметр Reach = 1. Что и опустило ее с первого места на 5.\n"
   ]
  },
  {
   "cell_type": "code",
   "execution_count": 20,
   "metadata": {},
   "outputs": [],
   "source": [
    "lebel = data_h.Hypothesis.to_list()\n",
    "series1=np.round(data_h['ICE'].to_list(), decimals=3)\n",
    "series2=np.round(data_h['RICE'].to_list(), decimals=3)"
   ]
  },
  {
   "cell_type": "code",
   "execution_count": 21,
   "metadata": {},
   "outputs": [],
   "source": [
    "# Создание новых значений для столбца 'Hypothesis'\n",
    "new_labels = [f'H{i}' for i in range(1, len(lebel) + 1)]\n",
    "\n",
    "# Обновление значений столбца 'Hypothesis'\n",
    "lebel = new_labels"
   ]
  },
  {
   "cell_type": "code",
   "execution_count": 22,
   "metadata": {
    "scrolled": true
   },
   "outputs": [
    {
     "data": {
      "image/png": "[encoded data removed]",
      "text/plain": [
       "<Figure size 640x480 with 1 Axes>"
      ]
     },
     "metadata": {},
     "output_type": "display_data"
    }
   ],
   "source": [
    "# Строим график\n",
    "\n",
    "x = range(len(series1))\n",
    "\n",
    "plt.plot(x, series1, marker='o', label='ICE')\n",
    "plt.plot(x, series2, marker='o', label='RICE')\n",
    "\n",
    "# Добавление названий гипотез на ось x\n",
    "plt.xticks(x, lebel)\n",
    "\n",
    "plt.legend()\n",
    "plt.title('Cравнение фреймворков приоретизации гипотез')\n",
    "plt.xlabel('Гипотезы')\n",
    "plt.ylabel('Очки')\n",
    "\n",
    "plt.show()\n",
    "\n"
   ]
  },
  {
   "cell_type": "markdown",
   "metadata": {},
   "source": [
    " Из графика-сравнения фреймворков приоритезации гипотез видно, как изменилось количество очков для гипотез № 1, 3, 7,8. А гипотезы № 2, 5, 6 и 9 практически не изменились."
   ]
  },
  {
   "cell_type": "markdown",
   "metadata": {},
   "source": [
    "## Часть. Анализ A/B-теста"
   ]
  },
  {
   "cell_type": "markdown",
   "metadata": {},
   "source": [
    "Задача\n",
    "Проанализируйте A/B-тест:\n",
    "- Постройте график кумулятивной выручки по группам. Сделайте выводы и предположения.\n",
    "- Постройте график кумулятивного среднего чека по группам. Сделайте выводы и предположения.\n",
    "- Постройте график относительного изменения кумулятивного среднего чека группы B к группе A. Сделайте выводы и предположения.\n",
    "- Постройте график кумулятивного среднего количества заказов на посетителя по группам. Сделайте выводы и предположения.\n",
    "- Постройте график относительного изменения кумулятивного среднего количества заказов на посетителя группы B к группе A. Сделайте выводы и предположения.\n",
    "- Постройте точечный график количества заказов по пользователям. Сделайте выводы и предположения.\n",
    "- Посчитайте 95-й и 99-й перцентили количества заказов на пользователя. Выберите границу для определения аномальных пользователей.\n",
    "- Постройте точечный график стоимостей заказов. Сделайте выводы и предположения.\n",
    "- Посчитайте 95-й и 99-й перцентили стоимости заказов. Выберите границу для определения аномальных заказов.\n",
    "- Посчитайте статистическую значимость различий в среднем количестве заказов на посетителя между группами по «сырым» данным. Сделайте выводы и предположения.\n",
    "- Посчитайте статистическую значимость различий в среднем чеке заказа между группами по «сырым» данным. Сделайте выводы и предположения.\n",
    "- Посчитайте статистическую значимость различий в среднем количестве заказов на посетителя между группами по «очищенным» данным. Сделайте выводы и предположения.\n",
    "- Посчитайте статистическую значимость различий в среднем чеке заказа между группами по «очищенным» данным. Сделайте выводы и предположения.\n",
    "- Примите решение по результатам теста и объясните его. Варианты решений:\n",
    "1. Остановить тест, зафиксировать победу одной из групп.\n",
    "2. Остановить тест, зафиксировать отсутствие различий между группами.\n",
    "3. Продолжить тест."
   ]
  },
  {
   "cell_type": "markdown",
   "metadata": {},
   "source": [
    "### Подготовка данных"
   ]
  },
  {
   "cell_type": "markdown",
   "metadata": {},
   "source": [
    "Для начала загрузим результаты A/B-теста и посмотрим на данные"
   ]
  },
  {
   "cell_type": "markdown",
   "metadata": {},
   "source": [
    "Напишем функцию для вывода данных на экран"
   ]
  },
  {
   "cell_type": "code",
   "execution_count": 23,
   "metadata": {},
   "outputs": [],
   "source": [
    "def show_info(df):\n",
    "    print(df.info())\n",
    "    print('----------')\n",
    "    display(df.head(10))"
   ]
  },
  {
   "cell_type": "markdown",
   "metadata": {},
   "source": [
    "Выведем на экран информацию о датафрейме с заказами"
   ]
  },
  {
   "cell_type": "code",
   "execution_count": 24,
   "metadata": {},
   "outputs": [
    {
     "name": "stdout",
     "output_type": "stream",
     "text": [
      "<class 'pandas.core.frame.DataFrame'>\n",
      "RangeIndex: 1197 entries, 0 to 1196\n",
      "Data columns (total 5 columns):\n",
      " #   Column         Non-Null Count  Dtype \n",
      "---  ------         --------------  ----- \n",
      " 0   transactionId  1197 non-null   int64 \n",
      " 1   visitorId      1197 non-null   int64 \n",
      " 2   date           1197 non-null   object\n",
      " 3   revenue        1197 non-null   int64 \n",
      " 4   group          1197 non-null   object\n",
      "dtypes: int64(3), object(2)\n",
      "memory usage: 46.9+ KB\n",
      "None\n",
      "----------\n"
     ]
    },
    {
     "data": {
      "text/html": [
       "<div>\n",
       "<style scoped>\n",
       "    .dataframe tbody tr th:only-of-type {\n",
       "        vertical-align: middle;\n",
       "    }\n",
       "\n",
       "    .dataframe tbody tr th {\n",
       "        vertical-align: top;\n",
       "    }\n",
       "\n",
       "    .dataframe thead th {\n",
       "        text-align: right;\n",
       "    }\n",
       "</style>\n",
       "<table border=\"1\" class=\"dataframe\">\n",
       "  <thead>\n",
       "    <tr style=\"text-align: right;\">\n",
       "      <th></th>\n",
       "      <th>transactionId</th>\n",
       "      <th>visitorId</th>\n",
       "      <th>date</th>\n",
       "      <th>revenue</th>\n",
       "      <th>group</th>\n",
       "    </tr>\n",
       "  </thead>\n",
       "  <tbody>\n",
       "    <tr>\n",
       "      <th>0</th>\n",
       "      <td>3667963787</td>\n",
       "      <td>3312258926</td>\n",
       "      <td>2019-08-15</td>\n",
       "      <td>1650</td>\n",
       "      <td>B</td>\n",
       "    </tr>\n",
       "    <tr>\n",
       "      <th>1</th>\n",
       "      <td>2804400009</td>\n",
       "      <td>3642806036</td>\n",
       "      <td>2019-08-15</td>\n",
       "      <td>730</td>\n",
       "      <td>B</td>\n",
       "    </tr>\n",
       "    <tr>\n",
       "      <th>2</th>\n",
       "      <td>2961555356</td>\n",
       "      <td>4069496402</td>\n",
       "      <td>2019-08-15</td>\n",
       "      <td>400</td>\n",
       "      <td>A</td>\n",
       "    </tr>\n",
       "    <tr>\n",
       "      <th>3</th>\n",
       "      <td>3797467345</td>\n",
       "      <td>1196621759</td>\n",
       "      <td>2019-08-15</td>\n",
       "      <td>9759</td>\n",
       "      <td>B</td>\n",
       "    </tr>\n",
       "    <tr>\n",
       "      <th>4</th>\n",
       "      <td>2282983706</td>\n",
       "      <td>2322279887</td>\n",
       "      <td>2019-08-15</td>\n",
       "      <td>2308</td>\n",
       "      <td>B</td>\n",
       "    </tr>\n",
       "    <tr>\n",
       "      <th>5</th>\n",
       "      <td>182168103</td>\n",
       "      <td>935554773</td>\n",
       "      <td>2019-08-15</td>\n",
       "      <td>2210</td>\n",
       "      <td>B</td>\n",
       "    </tr>\n",
       "    <tr>\n",
       "      <th>6</th>\n",
       "      <td>398296753</td>\n",
       "      <td>2900797465</td>\n",
       "      <td>2019-08-15</td>\n",
       "      <td>1860</td>\n",
       "      <td>B</td>\n",
       "    </tr>\n",
       "    <tr>\n",
       "      <th>7</th>\n",
       "      <td>2626614568</td>\n",
       "      <td>78758296</td>\n",
       "      <td>2019-08-15</td>\n",
       "      <td>1044</td>\n",
       "      <td>A</td>\n",
       "    </tr>\n",
       "    <tr>\n",
       "      <th>8</th>\n",
       "      <td>1576988021</td>\n",
       "      <td>295230930</td>\n",
       "      <td>2019-08-15</td>\n",
       "      <td>13710</td>\n",
       "      <td>A</td>\n",
       "    </tr>\n",
       "    <tr>\n",
       "      <th>9</th>\n",
       "      <td>1506739906</td>\n",
       "      <td>1882260405</td>\n",
       "      <td>2019-08-15</td>\n",
       "      <td>1855</td>\n",
       "      <td>B</td>\n",
       "    </tr>\n",
       "  </tbody>\n",
       "</table>\n",
       "</div>"
      ],
      "text/plain": [
       "   transactionId   visitorId        date  revenue group\n",
       "0     3667963787  3312258926  2019-08-15     1650     B\n",
       "1     2804400009  3642806036  2019-08-15      730     B\n",
       "2     2961555356  4069496402  2019-08-15      400     A\n",
       "3     3797467345  1196621759  2019-08-15     9759     B\n",
       "4     2282983706  2322279887  2019-08-15     2308     B\n",
       "5      182168103   935554773  2019-08-15     2210     B\n",
       "6      398296753  2900797465  2019-08-15     1860     B\n",
       "7     2626614568    78758296  2019-08-15     1044     A\n",
       "8     1576988021   295230930  2019-08-15    13710     A\n",
       "9     1506739906  1882260405  2019-08-15     1855     B"
      ]
     },
     "metadata": {},
     "output_type": "display_data"
    }
   ],
   "source": [
    "try:\n",
    "    orders = pd.read_csv('/datasets/orders.csv', sep=',')\n",
    "\n",
    "except:\n",
    "    orders = pd.read_csv('/Users/damayboroda/study/data_for_projects/orders.csv', sep=',')\n",
    "\n",
    "show_info(orders)"
   ]
  },
  {
   "cell_type": "markdown",
   "metadata": {},
   "source": [
    "Как видно, столбец с датой задан числовым форматом, приведет его к формату даты"
   ]
  },
  {
   "cell_type": "code",
   "execution_count": 25,
   "metadata": {},
   "outputs": [],
   "source": [
    "orders['date'] = orders['date'].map(lambda x: dt.datetime.strptime(x, '%Y-%m-%d'))"
   ]
  },
  {
   "cell_type": "markdown",
   "metadata": {},
   "source": [
    "Проверим на полные дубликаты"
   ]
  },
  {
   "cell_type": "code",
   "execution_count": 26,
   "metadata": {},
   "outputs": [
    {
     "data": {
      "text/plain": [
       "0"
      ]
     },
     "execution_count": 26,
     "metadata": {},
     "output_type": "execute_result"
    }
   ],
   "source": [
    "orders.duplicated().sum()"
   ]
  },
  {
   "cell_type": "markdown",
   "metadata": {},
   "source": [
    "Полных дубликатов не обнаружено"
   ]
  },
  {
   "cell_type": "markdown",
   "metadata": {},
   "source": [
    "Изучим данные"
   ]
  },
  {
   "cell_type": "markdown",
   "metadata": {},
   "source": [
    "- transactionId — идентификатор заказа;\n",
    "- visitorId — идентификатор пользователя, совершившего заказ;\n",
    "- revenue — выручка с заказа (средний чек);\n",
    "- date — дата заказа.\n",
    "- group — группа A/B-теста (A или B);"
   ]
  },
  {
   "cell_type": "code",
   "execution_count": 27,
   "metadata": {},
   "outputs": [
    {
     "name": "stdout",
     "output_type": "stream",
     "text": [
      "<class 'pandas.core.frame.DataFrame'>\n",
      "RangeIndex: 1197 entries, 0 to 1196\n",
      "Data columns (total 5 columns):\n",
      " #   Column         Non-Null Count  Dtype         \n",
      "---  ------         --------------  -----         \n",
      " 0   transactionId  1197 non-null   int64         \n",
      " 1   visitorId      1197 non-null   int64         \n",
      " 2   date           1197 non-null   datetime64[ns]\n",
      " 3   revenue        1197 non-null   int64         \n",
      " 4   group          1197 non-null   object        \n",
      "dtypes: datetime64[ns](1), int64(3), object(1)\n",
      "memory usage: 46.9+ KB\n",
      "None\n",
      "----------\n"
     ]
    },
    {
     "data": {
      "text/html": [
       "<div>\n",
       "<style scoped>\n",
       "    .dataframe tbody tr th:only-of-type {\n",
       "        vertical-align: middle;\n",
       "    }\n",
       "\n",
       "    .dataframe tbody tr th {\n",
       "        vertical-align: top;\n",
       "    }\n",
       "\n",
       "    .dataframe thead th {\n",
       "        text-align: right;\n",
       "    }\n",
       "</style>\n",
       "<table border=\"1\" class=\"dataframe\">\n",
       "  <thead>\n",
       "    <tr style=\"text-align: right;\">\n",
       "      <th></th>\n",
       "      <th>transactionId</th>\n",
       "      <th>visitorId</th>\n",
       "      <th>date</th>\n",
       "      <th>revenue</th>\n",
       "      <th>group</th>\n",
       "    </tr>\n",
       "  </thead>\n",
       "  <tbody>\n",
       "    <tr>\n",
       "      <th>0</th>\n",
       "      <td>3667963787</td>\n",
       "      <td>3312258926</td>\n",
       "      <td>2019-08-15</td>\n",
       "      <td>1650</td>\n",
       "      <td>B</td>\n",
       "    </tr>\n",
       "    <tr>\n",
       "      <th>1</th>\n",
       "      <td>2804400009</td>\n",
       "      <td>3642806036</td>\n",
       "      <td>2019-08-15</td>\n",
       "      <td>730</td>\n",
       "      <td>B</td>\n",
       "    </tr>\n",
       "    <tr>\n",
       "      <th>2</th>\n",
       "      <td>2961555356</td>\n",
       "      <td>4069496402</td>\n",
       "      <td>2019-08-15</td>\n",
       "      <td>400</td>\n",
       "      <td>A</td>\n",
       "    </tr>\n",
       "    <tr>\n",
       "      <th>3</th>\n",
       "      <td>3797467345</td>\n",
       "      <td>1196621759</td>\n",
       "      <td>2019-08-15</td>\n",
       "      <td>9759</td>\n",
       "      <td>B</td>\n",
       "    </tr>\n",
       "    <tr>\n",
       "      <th>4</th>\n",
       "      <td>2282983706</td>\n",
       "      <td>2322279887</td>\n",
       "      <td>2019-08-15</td>\n",
       "      <td>2308</td>\n",
       "      <td>B</td>\n",
       "    </tr>\n",
       "    <tr>\n",
       "      <th>5</th>\n",
       "      <td>182168103</td>\n",
       "      <td>935554773</td>\n",
       "      <td>2019-08-15</td>\n",
       "      <td>2210</td>\n",
       "      <td>B</td>\n",
       "    </tr>\n",
       "    <tr>\n",
       "      <th>6</th>\n",
       "      <td>398296753</td>\n",
       "      <td>2900797465</td>\n",
       "      <td>2019-08-15</td>\n",
       "      <td>1860</td>\n",
       "      <td>B</td>\n",
       "    </tr>\n",
       "    <tr>\n",
       "      <th>7</th>\n",
       "      <td>2626614568</td>\n",
       "      <td>78758296</td>\n",
       "      <td>2019-08-15</td>\n",
       "      <td>1044</td>\n",
       "      <td>A</td>\n",
       "    </tr>\n",
       "    <tr>\n",
       "      <th>8</th>\n",
       "      <td>1576988021</td>\n",
       "      <td>295230930</td>\n",
       "      <td>2019-08-15</td>\n",
       "      <td>13710</td>\n",
       "      <td>A</td>\n",
       "    </tr>\n",
       "    <tr>\n",
       "      <th>9</th>\n",
       "      <td>1506739906</td>\n",
       "      <td>1882260405</td>\n",
       "      <td>2019-08-15</td>\n",
       "      <td>1855</td>\n",
       "      <td>B</td>\n",
       "    </tr>\n",
       "  </tbody>\n",
       "</table>\n",
       "</div>"
      ],
      "text/plain": [
       "   transactionId   visitorId       date  revenue group\n",
       "0     3667963787  3312258926 2019-08-15     1650     B\n",
       "1     2804400009  3642806036 2019-08-15      730     B\n",
       "2     2961555356  4069496402 2019-08-15      400     A\n",
       "3     3797467345  1196621759 2019-08-15     9759     B\n",
       "4     2282983706  2322279887 2019-08-15     2308     B\n",
       "5      182168103   935554773 2019-08-15     2210     B\n",
       "6      398296753  2900797465 2019-08-15     1860     B\n",
       "7     2626614568    78758296 2019-08-15     1044     A\n",
       "8     1576988021   295230930 2019-08-15    13710     A\n",
       "9     1506739906  1882260405 2019-08-15     1855     B"
      ]
     },
     "metadata": {},
     "output_type": "display_data"
    },
    {
     "name": "stdout",
     "output_type": "stream",
     "text": [
      "<class 'pandas.core.frame.DataFrame'>\n",
      "RangeIndex: 62 entries, 0 to 61\n",
      "Data columns (total 3 columns):\n",
      " #   Column    Non-Null Count  Dtype \n",
      "---  ------    --------------  ----- \n",
      " 0   date      62 non-null     object\n",
      " 1   group     62 non-null     object\n",
      " 2   visitors  62 non-null     int64 \n",
      "dtypes: int64(1), object(2)\n",
      "memory usage: 1.6+ KB\n",
      "None\n",
      "----------\n"
     ]
    },
    {
     "data": {
      "text/html": [
       "<div>\n",
       "<style scoped>\n",
       "    .dataframe tbody tr th:only-of-type {\n",
       "        vertical-align: middle;\n",
       "    }\n",
       "\n",
       "    .dataframe tbody tr th {\n",
       "        vertical-align: top;\n",
       "    }\n",
       "\n",
       "    .dataframe thead th {\n",
       "        text-align: right;\n",
       "    }\n",
       "</style>\n",
       "<table border=\"1\" class=\"dataframe\">\n",
       "  <thead>\n",
       "    <tr style=\"text-align: right;\">\n",
       "      <th></th>\n",
       "      <th>date</th>\n",
       "      <th>group</th>\n",
       "      <th>visitors</th>\n",
       "    </tr>\n",
       "  </thead>\n",
       "  <tbody>\n",
       "    <tr>\n",
       "      <th>0</th>\n",
       "      <td>2019-08-01</td>\n",
       "      <td>A</td>\n",
       "      <td>719</td>\n",
       "    </tr>\n",
       "    <tr>\n",
       "      <th>1</th>\n",
       "      <td>2019-08-02</td>\n",
       "      <td>A</td>\n",
       "      <td>619</td>\n",
       "    </tr>\n",
       "    <tr>\n",
       "      <th>2</th>\n",
       "      <td>2019-08-03</td>\n",
       "      <td>A</td>\n",
       "      <td>507</td>\n",
       "    </tr>\n",
       "    <tr>\n",
       "      <th>3</th>\n",
       "      <td>2019-08-04</td>\n",
       "      <td>A</td>\n",
       "      <td>717</td>\n",
       "    </tr>\n",
       "    <tr>\n",
       "      <th>4</th>\n",
       "      <td>2019-08-05</td>\n",
       "      <td>A</td>\n",
       "      <td>756</td>\n",
       "    </tr>\n",
       "    <tr>\n",
       "      <th>5</th>\n",
       "      <td>2019-08-06</td>\n",
       "      <td>A</td>\n",
       "      <td>667</td>\n",
       "    </tr>\n",
       "    <tr>\n",
       "      <th>6</th>\n",
       "      <td>2019-08-07</td>\n",
       "      <td>A</td>\n",
       "      <td>644</td>\n",
       "    </tr>\n",
       "    <tr>\n",
       "      <th>7</th>\n",
       "      <td>2019-08-08</td>\n",
       "      <td>A</td>\n",
       "      <td>610</td>\n",
       "    </tr>\n",
       "    <tr>\n",
       "      <th>8</th>\n",
       "      <td>2019-08-09</td>\n",
       "      <td>A</td>\n",
       "      <td>617</td>\n",
       "    </tr>\n",
       "    <tr>\n",
       "      <th>9</th>\n",
       "      <td>2019-08-10</td>\n",
       "      <td>A</td>\n",
       "      <td>406</td>\n",
       "    </tr>\n",
       "  </tbody>\n",
       "</table>\n",
       "</div>"
      ],
      "text/plain": [
       "         date group  visitors\n",
       "0  2019-08-01     A       719\n",
       "1  2019-08-02     A       619\n",
       "2  2019-08-03     A       507\n",
       "3  2019-08-04     A       717\n",
       "4  2019-08-05     A       756\n",
       "5  2019-08-06     A       667\n",
       "6  2019-08-07     A       644\n",
       "7  2019-08-08     A       610\n",
       "8  2019-08-09     A       617\n",
       "9  2019-08-10     A       406"
      ]
     },
     "metadata": {},
     "output_type": "display_data"
    }
   ],
   "source": [
    "try:\n",
    "    visitors = pd.read_csv('/datasets/visitors.csv', sep=',')\n",
    "\n",
    "except:\n",
    "    visitors = pd.read_csv('/Users/damayboroda/study/data_for_projects/visitors.csv', sep=',')\n",
    "\n",
    "show_info(orders)\n",
    "show_info(visitors)"
   ]
  },
  {
   "cell_type": "markdown",
   "metadata": {},
   "source": [
    "Аналогично для даты поменяем формат"
   ]
  },
  {
   "cell_type": "code",
   "execution_count": 28,
   "metadata": {},
   "outputs": [],
   "source": [
    "visitors['date'] = visitors['date'].map(lambda x: dt.datetime.strptime(x, '%Y-%m-%d'))"
   ]
  },
  {
   "cell_type": "markdown",
   "metadata": {},
   "source": [
    "Проверим на полные дубликаты"
   ]
  },
  {
   "cell_type": "code",
   "execution_count": 29,
   "metadata": {},
   "outputs": [
    {
     "data": {
      "text/plain": [
       "0"
      ]
     },
     "execution_count": 29,
     "metadata": {},
     "output_type": "execute_result"
    }
   ],
   "source": [
    "visitors.duplicated().sum()"
   ]
  },
  {
   "cell_type": "markdown",
   "metadata": {},
   "source": [
    "Не обнаружено"
   ]
  },
  {
   "cell_type": "markdown",
   "metadata": {},
   "source": [
    "Изучим данные"
   ]
  },
  {
   "cell_type": "markdown",
   "metadata": {},
   "source": [
    "- date — дата;\n",
    "- group — группа A/B-теста (A или B);\n",
    "- visitors — количество посетителей интернет-магазина в определённой группе A/B-теста в указанную дату."
   ]
  },
  {
   "cell_type": "markdown",
   "metadata": {},
   "source": [
    "### Анализ A/B-теста"
   ]
  },
  {
   "cell_type": "markdown",
   "metadata": {},
   "source": [
    "Перед тем, как приступить к анализу, необходимо проверить, что каждому клиенту присвоена группа либо A, либо B."
   ]
  },
  {
   "cell_type": "code",
   "execution_count": 30,
   "metadata": {},
   "outputs": [
    {
     "data": {
      "text/html": [
       "<div>\n",
       "<style scoped>\n",
       "    .dataframe tbody tr th:only-of-type {\n",
       "        vertical-align: middle;\n",
       "    }\n",
       "\n",
       "    .dataframe tbody tr th {\n",
       "        vertical-align: top;\n",
       "    }\n",
       "\n",
       "    .dataframe thead th {\n",
       "        text-align: right;\n",
       "    }\n",
       "</style>\n",
       "<table border=\"1\" class=\"dataframe\">\n",
       "  <thead>\n",
       "    <tr style=\"text-align: right;\">\n",
       "      <th></th>\n",
       "      <th>visitorId</th>\n",
       "    </tr>\n",
       "    <tr>\n",
       "      <th>visitorId</th>\n",
       "      <th></th>\n",
       "    </tr>\n",
       "  </thead>\n",
       "  <tbody>\n",
       "    <tr>\n",
       "      <th>8300375</th>\n",
       "      <td>1</td>\n",
       "    </tr>\n",
       "    <tr>\n",
       "      <th>199603092</th>\n",
       "      <td>1</td>\n",
       "    </tr>\n",
       "    <tr>\n",
       "      <th>232979603</th>\n",
       "      <td>1</td>\n",
       "    </tr>\n",
       "    <tr>\n",
       "      <th>237748145</th>\n",
       "      <td>1</td>\n",
       "    </tr>\n",
       "    <tr>\n",
       "      <th>276558944</th>\n",
       "      <td>1</td>\n",
       "    </tr>\n",
       "    <tr>\n",
       "      <th>351125977</th>\n",
       "      <td>1</td>\n",
       "    </tr>\n",
       "    <tr>\n",
       "      <th>393266494</th>\n",
       "      <td>1</td>\n",
       "    </tr>\n",
       "    <tr>\n",
       "      <th>457167155</th>\n",
       "      <td>1</td>\n",
       "    </tr>\n",
       "    <tr>\n",
       "      <th>471551937</th>\n",
       "      <td>1</td>\n",
       "    </tr>\n",
       "    <tr>\n",
       "      <th>477780734</th>\n",
       "      <td>1</td>\n",
       "    </tr>\n",
       "    <tr>\n",
       "      <th>818047933</th>\n",
       "      <td>1</td>\n",
       "    </tr>\n",
       "    <tr>\n",
       "      <th>963407295</th>\n",
       "      <td>1</td>\n",
       "    </tr>\n",
       "    <tr>\n",
       "      <th>1230306981</th>\n",
       "      <td>1</td>\n",
       "    </tr>\n",
       "    <tr>\n",
       "      <th>1294878855</th>\n",
       "      <td>1</td>\n",
       "    </tr>\n",
       "    <tr>\n",
       "      <th>1316129916</th>\n",
       "      <td>1</td>\n",
       "    </tr>\n",
       "    <tr>\n",
       "      <th>1333886533</th>\n",
       "      <td>1</td>\n",
       "    </tr>\n",
       "    <tr>\n",
       "      <th>1404934699</th>\n",
       "      <td>1</td>\n",
       "    </tr>\n",
       "    <tr>\n",
       "      <th>1602967004</th>\n",
       "      <td>1</td>\n",
       "    </tr>\n",
       "    <tr>\n",
       "      <th>1614305549</th>\n",
       "      <td>1</td>\n",
       "    </tr>\n",
       "    <tr>\n",
       "      <th>1648269707</th>\n",
       "      <td>1</td>\n",
       "    </tr>\n",
       "    <tr>\n",
       "      <th>1668030113</th>\n",
       "      <td>1</td>\n",
       "    </tr>\n",
       "    <tr>\n",
       "      <th>1738359350</th>\n",
       "      <td>1</td>\n",
       "    </tr>\n",
       "    <tr>\n",
       "      <th>1801183820</th>\n",
       "      <td>1</td>\n",
       "    </tr>\n",
       "    <tr>\n",
       "      <th>1959144690</th>\n",
       "      <td>1</td>\n",
       "    </tr>\n",
       "    <tr>\n",
       "      <th>2038680547</th>\n",
       "      <td>1</td>\n",
       "    </tr>\n",
       "    <tr>\n",
       "      <th>2044997962</th>\n",
       "      <td>1</td>\n",
       "    </tr>\n",
       "    <tr>\n",
       "      <th>2378935119</th>\n",
       "      <td>1</td>\n",
       "    </tr>\n",
       "    <tr>\n",
       "      <th>2458001652</th>\n",
       "      <td>1</td>\n",
       "    </tr>\n",
       "    <tr>\n",
       "      <th>2579882178</th>\n",
       "      <td>1</td>\n",
       "    </tr>\n",
       "    <tr>\n",
       "      <th>2587333274</th>\n",
       "      <td>1</td>\n",
       "    </tr>\n",
       "    <tr>\n",
       "      <th>2600415354</th>\n",
       "      <td>1</td>\n",
       "    </tr>\n",
       "    <tr>\n",
       "      <th>2654030115</th>\n",
       "      <td>1</td>\n",
       "    </tr>\n",
       "    <tr>\n",
       "      <th>2686716486</th>\n",
       "      <td>1</td>\n",
       "    </tr>\n",
       "    <tr>\n",
       "      <th>2712142231</th>\n",
       "      <td>1</td>\n",
       "    </tr>\n",
       "    <tr>\n",
       "      <th>2716752286</th>\n",
       "      <td>1</td>\n",
       "    </tr>\n",
       "    <tr>\n",
       "      <th>2780786433</th>\n",
       "      <td>1</td>\n",
       "    </tr>\n",
       "    <tr>\n",
       "      <th>2927087541</th>\n",
       "      <td>1</td>\n",
       "    </tr>\n",
       "    <tr>\n",
       "      <th>2949041841</th>\n",
       "      <td>1</td>\n",
       "    </tr>\n",
       "    <tr>\n",
       "      <th>2954449915</th>\n",
       "      <td>1</td>\n",
       "    </tr>\n",
       "    <tr>\n",
       "      <th>3062433592</th>\n",
       "      <td>1</td>\n",
       "    </tr>\n",
       "    <tr>\n",
       "      <th>3202540741</th>\n",
       "      <td>1</td>\n",
       "    </tr>\n",
       "    <tr>\n",
       "      <th>3234906277</th>\n",
       "      <td>1</td>\n",
       "    </tr>\n",
       "    <tr>\n",
       "      <th>3656415546</th>\n",
       "      <td>1</td>\n",
       "    </tr>\n",
       "    <tr>\n",
       "      <th>3717692402</th>\n",
       "      <td>1</td>\n",
       "    </tr>\n",
       "    <tr>\n",
       "      <th>3766097110</th>\n",
       "      <td>1</td>\n",
       "    </tr>\n",
       "    <tr>\n",
       "      <th>3803269165</th>\n",
       "      <td>1</td>\n",
       "    </tr>\n",
       "    <tr>\n",
       "      <th>3891541246</th>\n",
       "      <td>1</td>\n",
       "    </tr>\n",
       "    <tr>\n",
       "      <th>3941795274</th>\n",
       "      <td>1</td>\n",
       "    </tr>\n",
       "    <tr>\n",
       "      <th>3951559397</th>\n",
       "      <td>1</td>\n",
       "    </tr>\n",
       "    <tr>\n",
       "      <th>3957174400</th>\n",
       "      <td>1</td>\n",
       "    </tr>\n",
       "    <tr>\n",
       "      <th>3963646447</th>\n",
       "      <td>1</td>\n",
       "    </tr>\n",
       "    <tr>\n",
       "      <th>3972127743</th>\n",
       "      <td>1</td>\n",
       "    </tr>\n",
       "    <tr>\n",
       "      <th>3984495233</th>\n",
       "      <td>1</td>\n",
       "    </tr>\n",
       "    <tr>\n",
       "      <th>4069496402</th>\n",
       "      <td>1</td>\n",
       "    </tr>\n",
       "    <tr>\n",
       "      <th>4120364173</th>\n",
       "      <td>1</td>\n",
       "    </tr>\n",
       "    <tr>\n",
       "      <th>4186807279</th>\n",
       "      <td>1</td>\n",
       "    </tr>\n",
       "    <tr>\n",
       "      <th>4256040402</th>\n",
       "      <td>1</td>\n",
       "    </tr>\n",
       "    <tr>\n",
       "      <th>4266935830</th>\n",
       "      <td>1</td>\n",
       "    </tr>\n",
       "  </tbody>\n",
       "</table>\n",
       "</div>"
      ],
      "text/plain": [
       "            visitorId\n",
       "visitorId            \n",
       "8300375             1\n",
       "199603092           1\n",
       "232979603           1\n",
       "237748145           1\n",
       "276558944           1\n",
       "351125977           1\n",
       "393266494           1\n",
       "457167155           1\n",
       "471551937           1\n",
       "477780734           1\n",
       "818047933           1\n",
       "963407295           1\n",
       "1230306981          1\n",
       "1294878855          1\n",
       "1316129916          1\n",
       "1333886533          1\n",
       "1404934699          1\n",
       "1602967004          1\n",
       "1614305549          1\n",
       "1648269707          1\n",
       "1668030113          1\n",
       "1738359350          1\n",
       "1801183820          1\n",
       "1959144690          1\n",
       "2038680547          1\n",
       "2044997962          1\n",
       "2378935119          1\n",
       "2458001652          1\n",
       "2579882178          1\n",
       "2587333274          1\n",
       "2600415354          1\n",
       "2654030115          1\n",
       "2686716486          1\n",
       "2712142231          1\n",
       "2716752286          1\n",
       "2780786433          1\n",
       "2927087541          1\n",
       "2949041841          1\n",
       "2954449915          1\n",
       "3062433592          1\n",
       "3202540741          1\n",
       "3234906277          1\n",
       "3656415546          1\n",
       "3717692402          1\n",
       "3766097110          1\n",
       "3803269165          1\n",
       "3891541246          1\n",
       "3941795274          1\n",
       "3951559397          1\n",
       "3957174400          1\n",
       "3963646447          1\n",
       "3972127743          1\n",
       "3984495233          1\n",
       "4069496402          1\n",
       "4120364173          1\n",
       "4186807279          1\n",
       "4256040402          1\n",
       "4266935830          1"
      ]
     },
     "execution_count": 30,
     "metadata": {},
     "output_type": "execute_result"
    }
   ],
   "source": [
    "orders_A = orders[orders['group'] == 'A'] \n",
    "orders_B = orders[orders['group'] == 'B']\n",
    "\n",
    "orders_AB = orders_A.merge(orders_B, on='visitorId', how='inner') # объединение таблиц по общему visitor_id\n",
    "orders_AB.groupby('visitorId').agg({'visitorId':'nunique'}) # visitorId, которые есть и в заказах группы А, и в заказах группы B."
   ]
  },
  {
   "cell_type": "markdown",
   "metadata": {},
   "source": [
    "Получается, что 58 клиентов есть как в группе А, так и в группе B. Придется удалить их из анализа, так как мы не знаем, как клиенты распределялись по группам."
   ]
  },
  {
   "cell_type": "code",
   "execution_count": 31,
   "metadata": {},
   "outputs": [],
   "source": [
    "orders_AB = orders_AB['visitorId'].unique() # создание списка уникальных наименований visitorId из orders_AB\n",
    "orders = orders.query('visitorId not in @orders_AB').reset_index(drop=True) # исключение этих клиентов из orders"
   ]
  },
  {
   "cell_type": "markdown",
   "metadata": {},
   "source": [
    "#### Создание датафрейма с кумулятивными данными"
   ]
  },
  {
   "cell_type": "markdown",
   "metadata": {},
   "source": [
    "Чтобы построить графики, нужно собрать кумулятивные данные. \n",
    "Объявим датафрейм cumulativeData со столбцами: \n",
    "- date — дата;\n",
    "- group — группа A/B-теста (A или B);\n",
    "- orders — кумулятивное количество заказов на указанную дату в указанной группе;\n",
    "- buyers — кумулятивное количество пользователей, совершивших хотя бы один заказ, на указанную дату в указанной группе;\n",
    "- revenue — кумулятивная выручка на указанную дату в указанной группе (средний чек);\n",
    "- visitors — кумулятивное количество посетителей интернет-магазина на указанную дату в определённой группе."
   ]
  },
  {
   "cell_type": "markdown",
   "metadata": {},
   "source": [
    "Создадим массив уникальных пар значений дат и групп теста методом drop_duplicates()"
   ]
  },
  {
   "cell_type": "code",
   "execution_count": 32,
   "metadata": {},
   "outputs": [
    {
     "data": {
      "text/html": [
       "<div>\n",
       "<style scoped>\n",
       "    .dataframe tbody tr th:only-of-type {\n",
       "        vertical-align: middle;\n",
       "    }\n",
       "\n",
       "    .dataframe tbody tr th {\n",
       "        vertical-align: top;\n",
       "    }\n",
       "\n",
       "    .dataframe thead th {\n",
       "        text-align: right;\n",
       "    }\n",
       "</style>\n",
       "<table border=\"1\" class=\"dataframe\">\n",
       "  <thead>\n",
       "    <tr style=\"text-align: right;\">\n",
       "      <th></th>\n",
       "      <th>date</th>\n",
       "      <th>group</th>\n",
       "    </tr>\n",
       "  </thead>\n",
       "  <tbody>\n",
       "    <tr>\n",
       "      <th>0</th>\n",
       "      <td>2019-08-15</td>\n",
       "      <td>B</td>\n",
       "    </tr>\n",
       "    <tr>\n",
       "      <th>6</th>\n",
       "      <td>2019-08-15</td>\n",
       "      <td>A</td>\n",
       "    </tr>\n",
       "    <tr>\n",
       "      <th>35</th>\n",
       "      <td>2019-08-16</td>\n",
       "      <td>A</td>\n",
       "    </tr>\n",
       "    <tr>\n",
       "      <th>37</th>\n",
       "      <td>2019-08-16</td>\n",
       "      <td>B</td>\n",
       "    </tr>\n",
       "    <tr>\n",
       "      <th>45</th>\n",
       "      <td>2019-08-01</td>\n",
       "      <td>A</td>\n",
       "    </tr>\n",
       "    <tr>\n",
       "      <th>...</th>\n",
       "      <td>...</td>\n",
       "      <td>...</td>\n",
       "    </tr>\n",
       "    <tr>\n",
       "      <th>913</th>\n",
       "      <td>2019-08-12</td>\n",
       "      <td>A</td>\n",
       "    </tr>\n",
       "    <tr>\n",
       "      <th>950</th>\n",
       "      <td>2019-08-13</td>\n",
       "      <td>B</td>\n",
       "    </tr>\n",
       "    <tr>\n",
       "      <th>952</th>\n",
       "      <td>2019-08-13</td>\n",
       "      <td>A</td>\n",
       "    </tr>\n",
       "    <tr>\n",
       "      <th>984</th>\n",
       "      <td>2019-08-14</td>\n",
       "      <td>B</td>\n",
       "    </tr>\n",
       "    <tr>\n",
       "      <th>985</th>\n",
       "      <td>2019-08-14</td>\n",
       "      <td>A</td>\n",
       "    </tr>\n",
       "  </tbody>\n",
       "</table>\n",
       "<p>62 rows × 2 columns</p>\n",
       "</div>"
      ],
      "text/plain": [
       "          date group\n",
       "0   2019-08-15     B\n",
       "6   2019-08-15     A\n",
       "35  2019-08-16     A\n",
       "37  2019-08-16     B\n",
       "45  2019-08-01     A\n",
       "..         ...   ...\n",
       "913 2019-08-12     A\n",
       "950 2019-08-13     B\n",
       "952 2019-08-13     A\n",
       "984 2019-08-14     B\n",
       "985 2019-08-14     A\n",
       "\n",
       "[62 rows x 2 columns]"
      ]
     },
     "execution_count": 32,
     "metadata": {},
     "output_type": "execute_result"
    }
   ],
   "source": [
    "datesGroups = orders[['date','group']].drop_duplicates() \n",
    "datesGroups"
   ]
  },
  {
   "cell_type": "markdown",
   "metadata": {},
   "source": [
    "Соберём агрегированные кумулятивные по дням данные о заказах"
   ]
  },
  {
   "cell_type": "code",
   "execution_count": 33,
   "metadata": {},
   "outputs": [],
   "source": [
    "ordersAggregated = datesGroups.apply(lambda x: orders[np.logical_and(orders['date'] <= x['date'], orders['group'] == x['group'])]\\\n",
    ".agg({'date' : 'max', 'group' : 'max', 'transactionId' : 'nunique', 'visitorId' : 'nunique', 'revenue' : 'sum'}), axis=1).sort_values(by=['date','group'])"
   ]
  },
  {
   "cell_type": "markdown",
   "metadata": {},
   "source": [
    "Аналогично получим агрегированные кумулятивные по дням данные о посетителях интернет-магазина"
   ]
  },
  {
   "cell_type": "code",
   "execution_count": 34,
   "metadata": {},
   "outputs": [],
   "source": [
    "visitorsAggregated = datesGroups.apply(lambda x: visitors[np.logical_and(visitors['date'] <= x['date'], visitors['group'] == x['group'])]\\\n",
    ".agg({'date': 'max', 'group': 'max', 'visitors': 'sum'}), axis=1).sort_values(by=['date','group'])"
   ]
  },
  {
   "cell_type": "markdown",
   "metadata": {},
   "source": [
    "Объединим два получившихся датафрейма"
   ]
  },
  {
   "cell_type": "code",
   "execution_count": 35,
   "metadata": {},
   "outputs": [
    {
     "data": {
      "text/html": [
       "<div>\n",
       "<style scoped>\n",
       "    .dataframe tbody tr th:only-of-type {\n",
       "        vertical-align: middle;\n",
       "    }\n",
       "\n",
       "    .dataframe tbody tr th {\n",
       "        vertical-align: top;\n",
       "    }\n",
       "\n",
       "    .dataframe thead th {\n",
       "        text-align: right;\n",
       "    }\n",
       "</style>\n",
       "<table border=\"1\" class=\"dataframe\">\n",
       "  <thead>\n",
       "    <tr style=\"text-align: right;\">\n",
       "      <th></th>\n",
       "      <th>date</th>\n",
       "      <th>group</th>\n",
       "      <th>orders</th>\n",
       "      <th>buyers</th>\n",
       "      <th>revenue</th>\n",
       "      <th>visitors</th>\n",
       "    </tr>\n",
       "  </thead>\n",
       "  <tbody>\n",
       "    <tr>\n",
       "      <th>0</th>\n",
       "      <td>2019-08-01</td>\n",
       "      <td>A</td>\n",
       "      <td>23</td>\n",
       "      <td>19</td>\n",
       "      <td>142779</td>\n",
       "      <td>719</td>\n",
       "    </tr>\n",
       "    <tr>\n",
       "      <th>1</th>\n",
       "      <td>2019-08-01</td>\n",
       "      <td>B</td>\n",
       "      <td>17</td>\n",
       "      <td>17</td>\n",
       "      <td>59758</td>\n",
       "      <td>713</td>\n",
       "    </tr>\n",
       "    <tr>\n",
       "      <th>2</th>\n",
       "      <td>2019-08-02</td>\n",
       "      <td>A</td>\n",
       "      <td>42</td>\n",
       "      <td>36</td>\n",
       "      <td>234381</td>\n",
       "      <td>1338</td>\n",
       "    </tr>\n",
       "    <tr>\n",
       "      <th>3</th>\n",
       "      <td>2019-08-02</td>\n",
       "      <td>B</td>\n",
       "      <td>40</td>\n",
       "      <td>39</td>\n",
       "      <td>221801</td>\n",
       "      <td>1294</td>\n",
       "    </tr>\n",
       "    <tr>\n",
       "      <th>4</th>\n",
       "      <td>2019-08-03</td>\n",
       "      <td>A</td>\n",
       "      <td>66</td>\n",
       "      <td>60</td>\n",
       "      <td>346854</td>\n",
       "      <td>1845</td>\n",
       "    </tr>\n",
       "  </tbody>\n",
       "</table>\n",
       "</div>"
      ],
      "text/plain": [
       "        date group  orders  buyers  revenue  visitors\n",
       "0 2019-08-01     A      23      19   142779       719\n",
       "1 2019-08-01     B      17      17    59758       713\n",
       "2 2019-08-02     A      42      36   234381      1338\n",
       "3 2019-08-02     B      40      39   221801      1294\n",
       "4 2019-08-03     A      66      60   346854      1845"
      ]
     },
     "execution_count": 35,
     "metadata": {},
     "output_type": "execute_result"
    }
   ],
   "source": [
    "cumulativeData = ordersAggregated.merge(visitorsAggregated, left_on=['date', 'group'], right_on=['date', 'group'])\n",
    "cumulativeData.columns = ['date', 'group', 'orders', 'buyers', 'revenue', 'visitors']\n",
    "cumulativeData.head()"
   ]
  },
  {
   "cell_type": "markdown",
   "metadata": {},
   "source": [
    "#### График кумулятивной выручки по группам"
   ]
  },
  {
   "cell_type": "code",
   "execution_count": 36,
   "metadata": {},
   "outputs": [
    {
     "data": {
      "image/png": "[encoded data removed]",
      "text/plain": [
       "<Figure size 1200x600 with 1 Axes>"
      ]
     },
     "metadata": {},
     "output_type": "display_data"
    }
   ],
   "source": [
    "\n",
    "# датафрейм с кумулятивным количеством заказов и кумулятивной выручкой по дням в группе А\n",
    "cumulativeRevenueA = cumulativeData[cumulativeData['group']=='A'][['date','revenue', 'orders']]\n",
    "\n",
    "# датафрейм с кумулятивным количеством заказов и кумулятивной выручкой по дням в группе B\n",
    "cumulativeRevenueB = cumulativeData[cumulativeData['group']=='B'][['date','revenue', 'orders']]\n",
    "\n",
    "#Задаем замер графика\n",
    "plt.figure(figsize=(12,6))\n",
    "\n",
    "# Строим график выручки группы А\n",
    "plt.plot(cumulativeRevenueA['date'], cumulativeRevenueA['revenue'], label='A')\n",
    "\n",
    "# Строим график выручки группы B\n",
    "plt.plot(cumulativeRevenueB['date'], cumulativeRevenueB['revenue'], label='B')\n",
    "plt.title('График кумулятивной выручки по группам', size=14)\n",
    "plt.xlabel(\"Дата\")\n",
    "plt.ylabel(\"Выручка\")\n",
    "plt.legend()\n",
    "plt.show()"
   ]
  },
  {
   "cell_type": "markdown",
   "metadata": {},
   "source": [
    "Выручка почти равномерно увеличивается в течение всего теста. Хороший знак.\n",
    "Однако график выручки группы B 18 августа резко растет. Это может сигнализировать о всплесках числа заказов с этого дня, либо о появлении очень дорогих заказов в выборке. \n",
    "Из графика видно, что выручка группы B с этого момента значительно выше выручки группы A."
   ]
  },
  {
   "cell_type": "markdown",
   "metadata": {},
   "source": [
    " #### График кумулятивного среднего чека по группам"
   ]
  },
  {
   "cell_type": "code",
   "execution_count": 37,
   "metadata": {},
   "outputs": [
    {
     "data": {
      "image/png": "[encoded data removed]",
      "text/plain": [
       "<Figure size 1200x600 with 1 Axes>"
      ]
     },
     "metadata": {},
     "output_type": "display_data"
    }
   ],
   "source": [
    "# Задаем размер графика\n",
    "plt.figure(figsize=(12,6))\n",
    "\n",
    "# Строим график среднего чека группы А\n",
    "plt.plot(cumulativeRevenueA['date'], cumulativeRevenueA['revenue']/cumulativeRevenueA['orders'], label='A')\n",
    "\n",
    "# Строим график среднего чека группы B\n",
    "plt.plot(cumulativeRevenueB['date'], cumulativeRevenueB['revenue']/cumulativeRevenueB['orders'], label='B')\n",
    "plt.title('График кумулятивного среднего чека по группам', size=14)\n",
    "plt.xlabel(\"Дата\")\n",
    "plt.ylabel(\"Сумма среднего чека\")\n",
    "plt.legend()\n",
    "plt.show()"
   ]
  },
  {
   "cell_type": "markdown",
   "metadata": {},
   "source": [
    "Средний чек тоже становится равномерным ближе к концу теста: продолжает расти для группы A и снижается для группы B. Опять же рост среднего чека с 7000 до 10000 18 августа для группы B. Возможно, в группу B во второй половине теста попали крупные заказы (резкий всплеск на графике). Тогда ей нужно больше данных, чтобы прийти к реальному среднему чеку и установиться на его уровне.\n"
   ]
  },
  {
   "cell_type": "markdown",
   "metadata": {},
   "source": [
    "#### График относительного изменения кумулятивного среднего чека группы B к группе A"
   ]
  },
  {
   "cell_type": "code",
   "execution_count": 38,
   "metadata": {},
   "outputs": [
    {
     "data": {
      "image/png": "[encoded data removed]",
      "text/plain": [
       "<Figure size 1200x600 with 1 Axes>"
      ]
     },
     "metadata": {},
     "output_type": "display_data"
    }
   ],
   "source": [
    "# собираем данные в одном датафрейме\n",
    "mergedCumulativeRevenue = cumulativeRevenueA.merge(cumulativeRevenueB, left_on='date', right_on='date', how='left', suffixes=['A', 'B'])\n",
    "\n",
    "# Задаем размер графика\n",
    "plt.figure(figsize=(12,6))\n",
    "\n",
    "# cтроим отношение средних чеков\n",
    "plt.plot(mergedCumulativeRevenue['date'], (mergedCumulativeRevenue['revenueB']/mergedCumulativeRevenue['ordersB'])/(mergedCumulativeRevenue['revenueA']/mergedCumulativeRevenue['ordersA'])-1)\n",
    "plt.title('График относительного изменения кумулятивного среднего чека группы B к группе A', size=14)\n",
    "# добавляем ось X\n",
    "plt.axhline(y=0.1, color='black', linestyle='--')\n",
    "plt.show()"
   ]
  },
  {
   "cell_type": "markdown",
   "metadata": {},
   "source": [
    "В нескольких точках график различия между сегментами резко «скачет». Это может говорить о выбросах, пока их не проверить - сложно говорить, что средний чек группы B значимо положительно отличается от среднего чека группы А."
   ]
  },
  {
   "cell_type": "markdown",
   "metadata": {},
   "source": [
    "#### График кумулятивного среднего количества заказов на посетителя (конверсии) по группам"
   ]
  },
  {
   "cell_type": "code",
   "execution_count": 39,
   "metadata": {},
   "outputs": [
    {
     "data": {
      "image/png": "[encoded data removed]",
      "text/plain": [
       "<Figure size 1200x600 with 1 Axes>"
      ]
     },
     "metadata": {},
     "output_type": "display_data"
    }
   ],
   "source": [
    "# считаем кумулятивную конверсию\n",
    "cumulativeData['conversion'] = cumulativeData['orders']/cumulativeData['visitors']\n",
    "\n",
    "# отделяем данные по группе A\n",
    "cumulativeDataA = cumulativeData[cumulativeData['group']=='A']\n",
    "\n",
    "# отделяем данные по группе B\n",
    "cumulativeDataB = cumulativeData[cumulativeData['group']=='B']\n",
    "\n",
    "# Задаем размер графика\n",
    "plt.figure(figsize=(12,6))\n",
    "\n",
    "# строим графики\n",
    "plt.plot(cumulativeDataA['date'], cumulativeDataA['conversion'], label='A')\n",
    "plt.plot(cumulativeDataB['date'], cumulativeDataB['conversion'], label='B')\n",
    "plt.title('График куммулятивной конверсии по группам', size=14)\n",
    "plt.xlabel(\"Дата\")\n",
    "plt.ylabel(\"Конверсия\")\n",
    "plt.legend()\n",
    "plt.axis([\"2019-08-01\", '2019-09-01', 0, 0.04])\n",
    "plt.show()"
   ]
  },
  {
   "cell_type": "markdown",
   "metadata": {},
   "source": [
    "Сначала конверсия группы А была выше конверсии группы B, но затем конверсия группы B вырвалась вперёд и зафиксировалась, а конверсия группы A просела и также зафиксировалась."
   ]
  },
  {
   "cell_type": "markdown",
   "metadata": {},
   "source": [
    " #### График относительного изменения кумулятивного среднего количества заказов на посетителя (конверсии) группы B к группе A"
   ]
  },
  {
   "cell_type": "code",
   "execution_count": 40,
   "metadata": {},
   "outputs": [
    {
     "data": {
      "image/png": "[encoded data removed]",
      "text/plain": [
       "<Figure size 640x480 with 1 Axes>"
      ]
     },
     "metadata": {},
     "output_type": "display_data"
    }
   ],
   "source": [
    "mergedCumulativeConversions = cumulativeDataA[['date','conversion']].merge(cumulativeDataB[['date','conversion']], left_on='date', right_on='date', how='left', suffixes=['A', 'B'])\n",
    "fig = plt.figure()\n",
    "plt.plot(mergedCumulativeConversions['date'], mergedCumulativeConversions['conversionB']/mergedCumulativeConversions['conversionA']-1, label=\"Относительный прирост конверсии группы B относительно группы A\")\n",
    "plt.title('График относительного изменения конверсии по группам', size=14)\n",
    "plt.xlabel(\"Дата\")\n",
    "\n",
    "plt.legend()\n",
    "\n",
    "plt.axhline(y=0, color='black', linestyle='--')\n",
    "plt.axhline(y=0.2, color='grey', linestyle='--')\n",
    "plt.axis([\"2019-08-01\", '2019-09-01', -0.2, 0.3])\n",
    "fig.autofmt_xdate()"
   ]
  },
  {
   "cell_type": "markdown",
   "metadata": {},
   "source": [
    "В начале группа В уступала группе А незначительно, затем В вырвалась сильно вперёд. В целом отношение конверсии ещё не установилось, и сейчас делать какие-либо выводы по тесту нельзя. Стоит проанализировать аномалии, возможно, они изменят картину."
   ]
  },
  {
   "cell_type": "markdown",
   "metadata": {},
   "source": [
    "#### Точечный график количества заказов по пользователям"
   ]
  },
  {
   "cell_type": "code",
   "execution_count": 41,
   "metadata": {},
   "outputs": [
    {
     "name": "stdout",
     "output_type": "stream",
     "text": [
      "      visitorId  orders\n",
      "908  3967698036       3\n",
      "55    249864742       3\n",
      "478  2108163459       3\n",
      "687  2988190573       3\n",
      "890  3908431265       3\n",
      "138   611059232       3\n",
      "632  2742574263       3\n",
      "157   678354126       2\n",
      "323  1404560065       2\n",
      "452  1985475298       2\n"
     ]
    }
   ],
   "source": [
    "ordersByVisitors = (\n",
    "    orders.groupby('visitorId', as_index=False)\n",
    "    .agg({'transactionId': 'nunique'})\n",
    ")\n",
    "\n",
    "ordersByVisitors.columns = ['visitorId', 'orders']\n",
    "\n",
    "print(ordersByVisitors.sort_values(by='orders', ascending=False).head(10)) "
   ]
  },
  {
   "cell_type": "code",
   "execution_count": 42,
   "metadata": {},
   "outputs": [
    {
     "data": {
      "image/png": "[encoded data removed]",
      "text/plain": [
       "<Figure size 640x480 with 1 Axes>"
      ]
     },
     "metadata": {},
     "output_type": "display_data"
    }
   ],
   "source": [
    "x_values = pd.Series(range(0,len(ordersByVisitors)))\n",
    "\n",
    "plt.scatter(x_values, ordersByVisitors['orders'])\n",
    "plt.title('График количества заказов по пользователям', size=14)\n",
    "plt.ylabel(\"Количество заказов\")\n",
    "plt.show()"
   ]
  },
  {
   "cell_type": "markdown",
   "metadata": {},
   "source": [
    "График показывает, что редко, когда посетители оформляют больше 1 заказа. Посчитаем выборочные перцентили количества заказов на одного пользователя."
   ]
  },
  {
   "cell_type": "markdown",
   "metadata": {},
   "source": [
    "#### 95-й и 99-й перцентили количества заказов на пользователя. Граница для определения аномальных пользователей."
   ]
  },
  {
   "cell_type": "code",
   "execution_count": 43,
   "metadata": {},
   "outputs": [
    {
     "name": "stdout",
     "output_type": "stream",
     "text": [
      "[1. 2.]\n"
     ]
    }
   ],
   "source": [
    "print(np.percentile(ordersByVisitors['orders'], [95, 99])) "
   ]
  },
  {
   "cell_type": "markdown",
   "metadata": {},
   "source": [
    "Менее 5% клиентов совершают более 1 заказов. Менее 1% клиентов совершают 2 заказа. Таким образом, граница аномальных пользователей - 2 заказа."
   ]
  },
  {
   "cell_type": "markdown",
   "metadata": {},
   "source": [
    "#### Точечный график стоимостей заказов"
   ]
  },
  {
   "cell_type": "code",
   "execution_count": 44,
   "metadata": {},
   "outputs": [
    {
     "data": {
      "image/png": "[encoded data removed]",
      "text/plain": [
       "<Figure size 640x480 with 1 Axes>"
      ]
     },
     "metadata": {},
     "output_type": "display_data"
    }
   ],
   "source": [
    "x_values = pd.Series(range(0,len(orders['revenue'])))\n",
    "plt.scatter(x_values, orders['revenue'])\n",
    "\n",
    "plt.ticklabel_format(style='plain')\n",
    "plt.title('График стоимостей заказов по пользователям', size=14)\n",
    "plt.ylabel(\"Стоимость заказа\")\n",
    "plt.show()"
   ]
  },
  {
   "cell_type": "markdown",
   "metadata": {},
   "source": [
    "Визуально 2 выбораса выделяются - кто-то закупил товар более, чем на 1200000 и более, чем на 200000."
   ]
  },
  {
   "cell_type": "markdown",
   "metadata": {},
   "source": [
    "#### 95-й и 99-й перцентили стоимости заказов. Выберите границу для определения аномальных заказов."
   ]
  },
  {
   "cell_type": "code",
   "execution_count": 45,
   "metadata": {},
   "outputs": [
    {
     "name": "stdout",
     "output_type": "stream",
     "text": [
      "[26785. 53904.]\n"
     ]
    }
   ],
   "source": [
    "print(np.percentile(orders['revenue'], [95, 99])) "
   ]
  },
  {
   "cell_type": "markdown",
   "metadata": {},
   "source": [
    "Менее 5% оформили заказ стоимостью более 26785 руб, менее 1% - стоимостью 53904 руб. Граница аномальных значений - 30000."
   ]
  },
  {
   "cell_type": "markdown",
   "metadata": {},
   "source": [
    "#### Подготовка к расчету статистических значимостей"
   ]
  },
  {
   "cell_type": "markdown",
   "metadata": {},
   "source": [
    "Соберем сводную таблицу data со всеми необходимыми данными"
   ]
  },
  {
   "cell_type": "code",
   "execution_count": 46,
   "metadata": {},
   "outputs": [
    {
     "data": {
      "text/html": [
       "<div>\n",
       "<style scoped>\n",
       "    .dataframe tbody tr th:only-of-type {\n",
       "        vertical-align: middle;\n",
       "    }\n",
       "\n",
       "    .dataframe tbody tr th {\n",
       "        vertical-align: top;\n",
       "    }\n",
       "\n",
       "    .dataframe thead th {\n",
       "        text-align: right;\n",
       "    }\n",
       "</style>\n",
       "<table border=\"1\" class=\"dataframe\">\n",
       "  <thead>\n",
       "    <tr style=\"text-align: right;\">\n",
       "      <th></th>\n",
       "      <th>date</th>\n",
       "      <th>ordersPerDateA</th>\n",
       "      <th>revenuePerDateA</th>\n",
       "      <th>ordersPerDateB</th>\n",
       "      <th>revenuePerDateB</th>\n",
       "      <th>ordersCummulativeA</th>\n",
       "      <th>revenueCummulativeA</th>\n",
       "      <th>ordersCummulativeB</th>\n",
       "      <th>revenueCummulativeB</th>\n",
       "      <th>visitorsPerDateA</th>\n",
       "      <th>visitorsPerDateB</th>\n",
       "      <th>visitorsCummulativeA</th>\n",
       "      <th>visitorsCummulativeB</th>\n",
       "    </tr>\n",
       "  </thead>\n",
       "  <tbody>\n",
       "    <tr>\n",
       "      <th>0</th>\n",
       "      <td>2019-08-01</td>\n",
       "      <td>23</td>\n",
       "      <td>142779</td>\n",
       "      <td>17</td>\n",
       "      <td>59758</td>\n",
       "      <td>23</td>\n",
       "      <td>142779</td>\n",
       "      <td>17</td>\n",
       "      <td>59758</td>\n",
       "      <td>719</td>\n",
       "      <td>713</td>\n",
       "      <td>719</td>\n",
       "      <td>713</td>\n",
       "    </tr>\n",
       "    <tr>\n",
       "      <th>1</th>\n",
       "      <td>2019-08-02</td>\n",
       "      <td>19</td>\n",
       "      <td>91602</td>\n",
       "      <td>22</td>\n",
       "      <td>162043</td>\n",
       "      <td>42</td>\n",
       "      <td>234381</td>\n",
       "      <td>39</td>\n",
       "      <td>221801</td>\n",
       "      <td>619</td>\n",
       "      <td>581</td>\n",
       "      <td>1338</td>\n",
       "      <td>1294</td>\n",
       "    </tr>\n",
       "    <tr>\n",
       "      <th>2</th>\n",
       "      <td>2019-08-03</td>\n",
       "      <td>24</td>\n",
       "      <td>112473</td>\n",
       "      <td>14</td>\n",
       "      <td>67049</td>\n",
       "      <td>66</td>\n",
       "      <td>346854</td>\n",
       "      <td>53</td>\n",
       "      <td>288850</td>\n",
       "      <td>507</td>\n",
       "      <td>509</td>\n",
       "      <td>1845</td>\n",
       "      <td>1803</td>\n",
       "    </tr>\n",
       "    <tr>\n",
       "      <th>3</th>\n",
       "      <td>2019-08-04</td>\n",
       "      <td>11</td>\n",
       "      <td>41176</td>\n",
       "      <td>13</td>\n",
       "      <td>96890</td>\n",
       "      <td>77</td>\n",
       "      <td>388030</td>\n",
       "      <td>66</td>\n",
       "      <td>385740</td>\n",
       "      <td>717</td>\n",
       "      <td>770</td>\n",
       "      <td>2562</td>\n",
       "      <td>2573</td>\n",
       "    </tr>\n",
       "    <tr>\n",
       "      <th>4</th>\n",
       "      <td>2019-08-05</td>\n",
       "      <td>22</td>\n",
       "      <td>86383</td>\n",
       "      <td>21</td>\n",
       "      <td>89908</td>\n",
       "      <td>99</td>\n",
       "      <td>474413</td>\n",
       "      <td>87</td>\n",
       "      <td>475648</td>\n",
       "      <td>756</td>\n",
       "      <td>707</td>\n",
       "      <td>3318</td>\n",
       "      <td>3280</td>\n",
       "    </tr>\n",
       "  </tbody>\n",
       "</table>\n",
       "</div>"
      ],
      "text/plain": [
       "        date  ordersPerDateA  revenuePerDateA  ordersPerDateB  \\\n",
       "0 2019-08-01              23           142779              17   \n",
       "1 2019-08-02              19            91602              22   \n",
       "2 2019-08-03              24           112473              14   \n",
       "3 2019-08-04              11            41176              13   \n",
       "4 2019-08-05              22            86383              21   \n",
       "\n",
       "   revenuePerDateB  ordersCummulativeA  revenueCummulativeA  \\\n",
       "0            59758                  23               142779   \n",
       "1           162043                  42               234381   \n",
       "2            67049                  66               346854   \n",
       "3            96890                  77               388030   \n",
       "4            89908                  99               474413   \n",
       "\n",
       "   ordersCummulativeB  revenueCummulativeB  visitorsPerDateA  \\\n",
       "0                  17                59758               719   \n",
       "1                  39               221801               619   \n",
       "2                  53               288850               507   \n",
       "3                  66               385740               717   \n",
       "4                  87               475648               756   \n",
       "\n",
       "   visitorsPerDateB  visitorsCummulativeA  visitorsCummulativeB  \n",
       "0               713                   719                   713  \n",
       "1               581                  1338                  1294  \n",
       "2               509                  1845                  1803  \n",
       "3               770                  2562                  2573  \n",
       "4               707                  3318                  3280  "
      ]
     },
     "execution_count": 46,
     "metadata": {},
     "output_type": "execute_result"
    }
   ],
   "source": [
    "visitorsADaily = visitors[visitors['group'] == 'A'][['date', 'visitors']]\n",
    "visitorsADaily.columns = ['date', 'visitorsPerDateA']\n",
    "\n",
    "visitorsACummulative = visitorsADaily.apply(\n",
    "    lambda x: visitorsADaily[visitorsADaily['date'] <= x['date']].agg(\n",
    "        {'date': 'max', 'visitorsPerDateA': 'sum'}\n",
    "    ),\n",
    "    axis=1,\n",
    ")\n",
    "visitorsACummulative.columns = ['date', 'visitorsCummulativeA']\n",
    "\n",
    "visitorsBDaily = visitors[visitors['group'] == 'B'][['date', 'visitors']]\n",
    "visitorsBDaily.columns = ['date', 'visitorsPerDateB']\n",
    "\n",
    "visitorsBCummulative = visitorsBDaily.apply(\n",
    "    lambda x: visitorsBDaily[visitorsBDaily['date'] <= x['date']].agg(\n",
    "        {'date': 'max', 'visitorsPerDateB': 'sum'}\n",
    "    ),\n",
    "    axis=1,\n",
    ")\n",
    "visitorsBCummulative.columns = ['date', 'visitorsCummulativeB']\n",
    "\n",
    "ordersADaily = (\n",
    "    orders[orders['group'] == 'A'][['date', 'transactionId', 'visitorId', 'revenue']]\n",
    "    .groupby('date', as_index=False)\n",
    "    .agg({'transactionId': pd.Series.nunique, 'revenue': 'sum'})\n",
    ")\n",
    "ordersADaily.columns = ['date', 'ordersPerDateA', 'revenuePerDateA']\n",
    "\n",
    "ordersACummulative = ordersADaily.apply(\n",
    "    lambda x: ordersADaily[ordersADaily['date'] <= x['date']].agg(\n",
    "        {'date': 'max', 'ordersPerDateA': 'sum', 'revenuePerDateA': 'sum'}\n",
    "    ),\n",
    "    axis=1,\n",
    ").sort_values(by=['date'])\n",
    "ordersACummulative.columns = [\n",
    "    'date',\n",
    "    'ordersCummulativeA',\n",
    "    'revenueCummulativeA',\n",
    "]\n",
    "\n",
    "ordersBDaily = (\n",
    "    orders[orders['group'] == 'B'][['date', 'transactionId', 'visitorId', 'revenue']]\n",
    "    .groupby('date', as_index=False)\n",
    "    .agg({'visitorId': pd.Series.nunique, 'revenue': 'sum'})\n",
    ")\n",
    "ordersBDaily.columns = ['date', 'ordersPerDateB', 'revenuePerDateB']\n",
    "\n",
    "ordersBCummulative = ordersBDaily.apply(\n",
    "    lambda x: ordersBDaily[ordersBDaily['date'] <= x['date']].agg(\n",
    "        {'date': 'max', 'ordersPerDateB': 'sum', 'revenuePerDateB': 'sum'}\n",
    "    ),\n",
    "    axis=1,\n",
    ").sort_values(by=['date'])\n",
    "ordersBCummulative.columns = [\n",
    "    'date',\n",
    "    'ordersCummulativeB',\n",
    "    'revenueCummulativeB',\n",
    "]\n",
    "\n",
    "data = (\n",
    "    ordersADaily.merge(\n",
    "        ordersBDaily, left_on='date', right_on='date', how='left'\n",
    "    )\n",
    "    .merge(ordersACummulative, left_on='date', right_on='date', how='left')\n",
    "    .merge(ordersBCummulative, left_on='date', right_on='date', how='left')\n",
    "    .merge(visitorsADaily, left_on='date', right_on='date', how='left')\n",
    "    .merge(visitorsBDaily, left_on='date', right_on='date', how='left')\n",
    "    .merge(visitorsACummulative, left_on='date', right_on='date', how='left')\n",
    "    .merge(visitorsBCummulative, left_on='date', right_on='date', how='left')\n",
    ")\n",
    "\n",
    "data.head(5)"
   ]
  },
  {
   "cell_type": "markdown",
   "metadata": {},
   "source": [
    "Описание полученных столбцов:\n",
    "- date — дата;\n",
    "- ordersPerDateA — количество заказов в выбранную дату в группе A;\n",
    "- revenuePerDateA — суммарная выручка в выбранную дату в группе A;\n",
    "- ordersPerDateB — количество заказов в выбранную дату в группе B;\n",
    "- revenuePerDateB — суммарная выручка в выбранную дату в группе B;\n",
    "- ordersCummulativeA — суммарное число заказов до выбранной даты включительно в группе A;\n",
    "- revenueCummulativeA — суммарная выручка до выбранной даты включительно в группе A;\n",
    "- ordersCummulativeB — суммарное количество заказов до выбранной даты включительно в группе B;\n",
    "- revenueCummulativeB — суммарная выручка до выбранной даты включительно в группе B;\n",
    "- visitorsPerDateA — количество пользователей в выбранную дату в группе A;\n",
    "- visitorsPerDateB — количество пользователей в выбранную дату в группе B;\n",
    "- visitorsCummulativeA — количество пользователей до выбранной даты включительно в группе A;\n",
    "- visitorsCummulativeB — количество пользователей до выбранной даты включительно в группе B."
   ]
  },
  {
   "cell_type": "markdown",
   "metadata": {},
   "source": [
    "#### Cтатистическая значимость различий в среднем количестве заказов на посетителя между группами по «сырым» данным"
   ]
  },
  {
   "cell_type": "markdown",
   "metadata": {},
   "source": [
    "Посчитаем статистическую значимость различия в среднем количестве заказов между группами.\n",
    "Создадим переменные ordersByVisitorsA и ordersByVisitorsB со столбцами ['visitorId', 'orders']. В них для пользователей, которые заказывали хотя бы 1 раз, укажем число совершённых заказов. "
   ]
  },
  {
   "cell_type": "code",
   "execution_count": 47,
   "metadata": {},
   "outputs": [],
   "source": [
    "ordersByVisitorsA = (\n",
    "    orders[orders['group'] == 'A']\n",
    "    .groupby('visitorId', as_index=False)\n",
    "    .agg({'transactionId': pd.Series.nunique})\n",
    ")\n",
    "ordersByVisitorsA.columns = ['visitorId', 'orders']\n",
    "\n",
    "ordersByVisitorsB = (\n",
    "    orders[orders['group'] == 'B']\n",
    "    .groupby('visitorId', as_index=False)\n",
    "    .agg({'transactionId': pd.Series.nunique})\n",
    ")\n",
    "ordersByVisitorsB.columns = ['visitorId', 'orders']"
   ]
  },
  {
   "cell_type": "markdown",
   "metadata": {},
   "source": [
    "Объявим переменные sampleA и sampleB, в которых пользователям из разных групп будет соответствовать количество заказов. Тем, кто ничего не заказал, будут соответствовать нули. Это нужно, чтобы подготовить выборки к проверке критерием Манна-Уитни."
   ]
  },
  {
   "cell_type": "code",
   "execution_count": 48,
   "metadata": {},
   "outputs": [],
   "source": [
    "sampleA = pd.concat([ordersByVisitorsA['orders'],pd.Series(0, index=np.arange(data['visitorsPerDateA'].sum() - len(ordersByVisitorsA['orders'])), name='orders')],axis=0)\n",
    "\n",
    "sampleB = pd.concat([ordersByVisitorsB['orders'],pd.Series(0, index=np.arange(data['visitorsPerDateB'].sum() - len(ordersByVisitorsB['orders'])), name='orders')],axis=0)"
   ]
  },
  {
   "cell_type": "code",
   "execution_count": 49,
   "metadata": {},
   "outputs": [
    {
     "data": {
      "text/plain": [
       "0    1\n",
       "1    1\n",
       "2    1\n",
       "3    1\n",
       "4    1\n",
       "Name: orders, dtype: int64"
      ]
     },
     "execution_count": 49,
     "metadata": {},
     "output_type": "execute_result"
    }
   ],
   "source": [
    "sampleA.head()"
   ]
  },
  {
   "cell_type": "markdown",
   "metadata": {},
   "source": [
    "Сформулируем гипотезы.\n",
    "\n",
    "- H0: различий в конверсии (в среднем количестве заказов на посетителя) между группами по сырым данным нет.\n",
    "- H1: различия в конверсии (в среднем количестве заказов на посетителя) между группами по сырым данным есть."
   ]
  },
  {
   "cell_type": "markdown",
   "metadata": {},
   "source": [
    "Применим статистический критерий Манна-Уитни, чтобы оценить различия в количестве заказов между группами A и B. "
   ]
  },
  {
   "cell_type": "code",
   "execution_count": 50,
   "metadata": {},
   "outputs": [
    {
     "name": "stdout",
     "output_type": "stream",
     "text": [
      "p-значение:  0.011\n",
      "Отвергаем нулевую гипотезу\n",
      "относительный выигрыш группы B: 0.160\n"
     ]
    }
   ],
   "source": [
    "alpha = .05 \n",
    "results = stats.mannwhitneyu(sampleA, sampleB)\n",
    "\n",
    "\n",
    "print('p-значение: ', \"{0:.3f}\".format(results.pvalue))\n",
    "\n",
    "if results.pvalue < alpha:\n",
    "    print(\"Отвергаем нулевую гипотезу\")\n",
    "else:\n",
    "    print(\"Не получилось отвергнуть нулевую гипотезу\") \n",
    "\n",
    "print('относительный выигрыш группы B:', \"{0:.3f}\".format(sampleB.mean() / sampleA.mean() - 1))"
   ]
  },
  {
   "cell_type": "markdown",
   "metadata": {},
   "source": [
    "По «сырым» данным есть значимые различия в среднем количестве заказов в группах A и B. Первое число — p-value = 0.011 < 0.05. Значит, нулевую гипотезу о том, что статистически значимых различий в среднем числе заказов между группами нет, отвергаем. Относительный выигрыш группы B равен 16% — второе число в выводе. Возможно, что выбросы не сильно влияют на данные, но проверим это позже."
   ]
  },
  {
   "cell_type": "markdown",
   "metadata": {},
   "source": [
    "#### Cтатистическая значимость различий в среднем чеке заказа между группами по «сырым» данным"
   ]
  },
  {
   "cell_type": "markdown",
   "metadata": {},
   "source": [
    "Сформулируем гипотезы.\n",
    "\n",
    "- H0: различий в среднем чеке заказа между группами нет по сырым данным.\n",
    "- H1: различия в среднем чеке заказа между группами есть по сырым данным."
   ]
  },
  {
   "cell_type": "markdown",
   "metadata": {},
   "source": [
    "Чтобы рассчитать статистическую значимость различий в среднем чеке, передадим критерию mannwhitneyu() данные о выручке с заказов. \n",
    "А ещё найдём относительные различия в среднем чеке между группами."
   ]
  },
  {
   "cell_type": "code",
   "execution_count": 51,
   "metadata": {
    "scrolled": true
   },
   "outputs": [
    {
     "name": "stdout",
     "output_type": "stream",
     "text": [
      "p-значение:  0.829\n",
      "Не получилось отвергнуть нулевую гипотезу\n",
      "относительный выигрыш группы B: 0.287\n"
     ]
    }
   ],
   "source": [
    "alpha = .05 \n",
    "results = stats.mannwhitneyu(orders[orders['group']=='A']['revenue'], orders[orders['group']=='B']['revenue'])\n",
    "\n",
    "\n",
    "print('p-значение: ', \"{0:.3f}\".format(results.pvalue))\n",
    "\n",
    "if results.pvalue < alpha:\n",
    "    print(\"Отвергаем нулевую гипотезу\")\n",
    "else:\n",
    "    print(\"Не получилось отвергнуть нулевую гипотезу\") \n",
    "\n",
    "print('относительный выигрыш группы B:', \"{0:.3f}\".format(orders[orders['group']=='B']['revenue'].mean()/orders[orders['group']=='A']['revenue'].mean()-1))\n"
   ]
  },
  {
   "cell_type": "markdown",
   "metadata": {},
   "source": [
    "Наблюдаемое различие в 28.7% в пользу группы B в среднем чеке не является стат. значимым. P-value значительно больше 0.05. Значит, причин отвергать нулевую гипотезу и считать, что в среднем чеке есть различия, нет. "
   ]
  },
  {
   "cell_type": "markdown",
   "metadata": {},
   "source": [
    "#### Вычисление аномальных пользователей"
   ]
  },
  {
   "cell_type": "code",
   "execution_count": 52,
   "metadata": {},
   "outputs": [
    {
     "name": "stdout",
     "output_type": "stream",
     "text": [
      "937    148427295\n",
      "792    204675465\n",
      "33     249864742\n",
      "586    358944393\n",
      "557    382846391\n",
      "Name: visitorId, dtype: int64\n",
      "49\n"
     ]
    }
   ],
   "source": [
    "orders_lim = 2\n",
    "revenue_lim = 30000\n",
    "\n",
    "visitorsWithManyOrders = pd.concat(\n",
    "    [\n",
    "        ordersByVisitorsA[ordersByVisitorsA['orders'] > orders_lim]['visitorId'],\n",
    "        ordersByVisitorsB[ordersByVisitorsB['orders'] > orders_lim]['visitorId'],\n",
    "    ],\n",
    "    axis=0,\n",
    ")\n",
    "visitorsWithExpensiveOrders = orders[orders['revenue'] > revenue_lim]['visitorId']\n",
    "abnormalVisitors = (\n",
    "    pd.concat([visitorsWithManyOrders, visitorsWithExpensiveOrders], axis=0)\n",
    "    .drop_duplicates()\n",
    "    .sort_values()\n",
    ")\n",
    "print(abnormalVisitors.head(5))\n",
    "print(abnormalVisitors.shape[0])"
   ]
  },
  {
   "cell_type": "markdown",
   "metadata": {},
   "source": [
    "49 клиентов с аномальными значениями"
   ]
  },
  {
   "cell_type": "markdown",
   "metadata": {},
   "source": [
    "#### Cтатистическая значимость различий в среднем количестве заказов на посетителя между группами по «очищенным» данным"
   ]
  },
  {
   "cell_type": "markdown",
   "metadata": {},
   "source": [
    "Подготовим выборки количества заказов по пользователям по группам теста"
   ]
  },
  {
   "cell_type": "code",
   "execution_count": 53,
   "metadata": {},
   "outputs": [],
   "source": [
    "sampleAFiltered = pd.concat(\n",
    "    [\n",
    "        ordersByVisitorsA[\n",
    "            np.logical_not(ordersByVisitorsA['visitorId'].isin(abnormalVisitors))\n",
    "        ]['orders'],\n",
    "        pd.Series(\n",
    "            0,\n",
    "            index=np.arange(\n",
    "                data['visitorsPerDateA'].sum() - len(ordersByVisitorsA['orders'])\n",
    "            ),\n",
    "            name='orders',\n",
    "        ),\n",
    "    ],\n",
    "    axis=0,\n",
    ")\n",
    "\n",
    "sampleBFiltered = pd.concat(\n",
    "    [\n",
    "        ordersByVisitorsB[\n",
    "            np.logical_not(ordersByVisitorsB['visitorId'].isin(abnormalVisitors))\n",
    "        ]['orders'],\n",
    "        pd.Series(\n",
    "            0,\n",
    "            index=np.arange(\n",
    "                data['visitorsPerDateB'].sum() - len(ordersByVisitorsB['orders'])\n",
    "            ),\n",
    "            name='orders',\n",
    "        ),\n",
    "    ],\n",
    "    axis=0,\n",
    ")"
   ]
  },
  {
   "cell_type": "markdown",
   "metadata": {},
   "source": [
    "Применим статистический критерий Манна-Уитни к полученным выборкам"
   ]
  },
  {
   "cell_type": "markdown",
   "metadata": {},
   "source": [
    "Сформулируем гипотезы.\n",
    "\n",
    "- H0: различий в конверсии (в среднем количестве заказов на посетителя) между группами по очищенным данным нет.\n",
    "- H1: различия в конверсии (в среднем количестве заказов на посетителя) между группами по очищенным данным есть."
   ]
  },
  {
   "cell_type": "code",
   "execution_count": 54,
   "metadata": {},
   "outputs": [
    {
     "name": "stdout",
     "output_type": "stream",
     "text": [
      "p-значение:  0.010\n",
      "Отвергаем нулевую гипотезу\n",
      "относительный выигрыш группы B: 0.187\n"
     ]
    }
   ],
   "source": [
    "alpha = .05 \n",
    "results = stats.mannwhitneyu(sampleAFiltered, sampleBFiltered)\n",
    "\n",
    "\n",
    "print('p-значение: ', \"{0:.3f}\".format(results.pvalue))\n",
    "\n",
    "if results.pvalue < alpha:\n",
    "    print(\"Отвергаем нулевую гипотезу\")\n",
    "else:\n",
    "    print(\"Не получилось отвергнуть нулевую гипотезу\") \n",
    "\n",
    "print('относительный выигрыш группы B:', \"{0:.3f}\".format(sampleBFiltered.mean() / sampleAFiltered.mean() - 1))"
   ]
  },
  {
   "cell_type": "markdown",
   "metadata": {},
   "source": [
    "Cреднее количество заказов группы B выше среднего количества заказов группы A - на 18.7% (а было - 16%)\n",
    "P-value немного уменишилось и значительно меньше 0.05. Значит, нулевую гипотезу отвергаем и считаем, что в среднем количестве заказов есть различия. Очистка выбросов скорректировала разницу и утвердила мнение, что количество среднее количество заказов группы B значимо превышает среднее количество заказов группы A."
   ]
  },
  {
   "cell_type": "markdown",
   "metadata": {},
   "source": [
    "#### Cтатистическая значимость различий в среднем чеке заказа между группами по «очищенным» данным"
   ]
  },
  {
   "cell_type": "markdown",
   "metadata": {},
   "source": [
    "Сформулируем гипотезы.\n",
    "\n",
    "- H0: различий в среднем чеке заказа между группами нет по очищенным данным.\n",
    "- H1: различия в среднем чеке заказа между группами есть по очищенным данным."
   ]
  },
  {
   "cell_type": "code",
   "execution_count": 55,
   "metadata": {},
   "outputs": [
    {
     "name": "stdout",
     "output_type": "stream",
     "text": [
      "p-значение:  0.741\n",
      "Не получилось отвергнуть нулевую гипотезу\n",
      "относительный выигрыш группы B: -0.027\n"
     ]
    }
   ],
   "source": [
    "alpha = .05 \n",
    "results = stats.mannwhitneyu(orders[\n",
    "                np.logical_and(\n",
    "                    orders['group'] == 'A',\n",
    "                    np.logical_not(orders['visitorId'].isin(abnormalVisitors)),\n",
    "                )\n",
    "            ]['revenue'],\n",
    "            orders[\n",
    "                np.logical_and(\n",
    "                    orders['group'] == 'B',\n",
    "                    np.logical_not(orders['visitorId'].isin(abnormalVisitors)),\n",
    "                )\n",
    "            ]['revenue'])\n",
    "\n",
    "\n",
    "print('p-значение: ', \"{0:.3f}\".format(results.pvalue))\n",
    "\n",
    "if results.pvalue < alpha:\n",
    "    print(\"Отвергаем нулевую гипотезу\")\n",
    "else:\n",
    "    print(\"Не получилось отвергнуть нулевую гипотезу\") \n",
    "\n",
    "print('относительный выигрыш группы B:', \"{0:.3f}\".format(orders[\n",
    "            np.logical_and(\n",
    "                orders['group'] == 'B',\n",
    "                np.logical_not(orders['visitorId'].isin(abnormalVisitors)),\n",
    "            )\n",
    "        ]['revenue'].mean()\n",
    "        / orders[\n",
    "            np.logical_and(\n",
    "                orders['group'] == 'A',\n",
    "                np.logical_not(orders['visitorId'].isin(abnormalVisitors)),\n",
    "            )\n",
    "        ]['revenue'].mean()\n",
    "        - 1))\n"
   ]
  },
  {
   "cell_type": "markdown",
   "metadata": {},
   "source": [
    "Cредний чек группы B даже ниже среднего чека группы A - на 2.7%. Разницы теперь нет практически никакой - благодаря очистке выбросов.\n",
    "\n",
    "P-value значительно больше 0.05. Значит, причин отвергать нулевую гипотезу и считать, что в среднем чеке есть различия, нет, как и при сырых данных. \n",
    "\n",
    "\n",
    "Значим мы можем говорить, что разницы между средними чеками в группах А и B нет."
   ]
  },
  {
   "cell_type": "markdown",
   "metadata": {},
   "source": [
    "### Выводы A/B-тестирования"
   ]
  },
  {
   "cell_type": "markdown",
   "metadata": {},
   "source": [
    "- Есть статистически значимое различие по конверсии между группами как по сырым данным, так и после фильтрации аномалий.\n",
    "- Нет статистически значимого различия по среднему чеку между группами как по сырым данным, так и после удаления аномалий.\n",
    "- Результаты группы B лучше группы A по конверсии (среднему количеству заказов на пользователя): имеют тенденцию роста.\n",
    "- По графику среднего чек для обеих групп нельзя делать выводы, он не установился ни для одной из групп.\n",
    "\n",
    "**Решение**: в соответствии с полученными выводами остановить тест и признать победу группы B.\n"
   ]
  },
  {
   "cell_type": "code",
   "execution_count": null,
   "metadata": {},
   "outputs": [],
   "source": []
  }
 ],
 "metadata": {
  "ExecuteTimeLog": [
   {
    "duration": 77,
    "start_time": "2023-06-29T12:35:29.652Z"
   },
   {
    "duration": 423,
    "start_time": "2023-06-29T12:35:32.568Z"
   },
   {
    "duration": 124,
    "start_time": "2023-06-29T12:35:34.521Z"
   },
   {
    "duration": 53,
    "start_time": "2023-06-29T12:35:45.925Z"
   },
   {
    "duration": 47,
    "start_time": "2023-06-29T12:36:04.500Z"
   },
   {
    "duration": 31,
    "start_time": "2023-06-29T12:39:43.325Z"
   },
   {
    "duration": 29,
    "start_time": "2023-06-29T12:40:03.734Z"
   },
   {
    "duration": 34,
    "start_time": "2023-06-29T12:43:16.025Z"
   },
   {
    "duration": 35,
    "start_time": "2023-06-29T12:43:26.476Z"
   },
   {
    "duration": 33,
    "start_time": "2023-06-29T12:49:13.541Z"
   },
   {
    "duration": 33,
    "start_time": "2023-06-29T12:55:38.405Z"
   },
   {
    "duration": 33,
    "start_time": "2023-06-29T12:58:12.407Z"
   },
   {
    "duration": 7,
    "start_time": "2023-06-29T12:58:15.173Z"
   },
   {
    "duration": 10,
    "start_time": "2023-06-29T12:58:17.412Z"
   },
   {
    "duration": 1216,
    "start_time": "2023-06-29T12:58:26.618Z"
   },
   {
    "duration": 13,
    "start_time": "2023-06-29T12:58:36.009Z"
   },
   {
    "duration": 11,
    "start_time": "2023-06-29T12:59:29.616Z"
   },
   {
    "duration": 12,
    "start_time": "2023-06-29T13:03:28.038Z"
   },
   {
    "duration": 335,
    "start_time": "2023-06-29T13:03:52.375Z"
   },
   {
    "duration": 5,
    "start_time": "2023-06-29T13:04:03.930Z"
   },
   {
    "duration": 11,
    "start_time": "2023-06-29T13:04:20.868Z"
   },
   {
    "duration": 5,
    "start_time": "2023-06-29T13:07:49.455Z"
   },
   {
    "duration": 34,
    "start_time": "2023-06-29T13:07:53.758Z"
   },
   {
    "duration": 3,
    "start_time": "2023-06-29T13:08:03.367Z"
   },
   {
    "duration": 39,
    "start_time": "2023-06-29T13:08:05.919Z"
   },
   {
    "duration": 33,
    "start_time": "2023-06-29T13:08:19.897Z"
   },
   {
    "duration": 5,
    "start_time": "2023-06-29T13:08:23.568Z"
   },
   {
    "duration": 12,
    "start_time": "2023-06-29T13:08:25.257Z"
   },
   {
    "duration": 6,
    "start_time": "2023-06-29T13:08:27.995Z"
   },
   {
    "duration": 14,
    "start_time": "2023-06-29T13:08:30.120Z"
   },
   {
    "duration": 223,
    "start_time": "2023-06-29T13:27:30.942Z"
   },
   {
    "duration": 102,
    "start_time": "2023-06-29T13:29:29.838Z"
   },
   {
    "duration": 4,
    "start_time": "2023-06-29T13:32:42.123Z"
   },
   {
    "duration": 55,
    "start_time": "2023-06-29T13:33:04.490Z"
   },
   {
    "duration": 71,
    "start_time": "2023-06-29T13:33:12.169Z"
   },
   {
    "duration": 33,
    "start_time": "2023-06-29T13:33:41.182Z"
   },
   {
    "duration": 80,
    "start_time": "2023-06-29T13:34:17.336Z"
   },
   {
    "duration": 1553,
    "start_time": "2023-06-29T13:38:20.142Z"
   },
   {
    "duration": 615,
    "start_time": "2023-06-29T13:38:57.821Z"
   },
   {
    "duration": 1916,
    "start_time": "2023-06-29T13:39:03.189Z"
   },
   {
    "duration": 3153,
    "start_time": "2023-06-29T13:39:28.926Z"
   },
   {
    "duration": 1795,
    "start_time": "2023-06-29T13:41:33.050Z"
   },
   {
    "duration": 2090,
    "start_time": "2023-06-29T13:43:28.730Z"
   },
   {
    "duration": 13,
    "start_time": "2023-06-29T13:44:26.487Z"
   },
   {
    "duration": 21,
    "start_time": "2023-06-29T13:44:48.638Z"
   },
   {
    "duration": 5,
    "start_time": "2023-06-29T13:45:52.254Z"
   },
   {
    "duration": 13,
    "start_time": "2023-06-29T14:13:01.081Z"
   },
   {
    "duration": 7,
    "start_time": "2023-06-29T14:13:06.619Z"
   },
   {
    "duration": 7,
    "start_time": "2023-06-29T14:14:11.588Z"
   },
   {
    "duration": 799,
    "start_time": "2023-06-30T07:15:48.364Z"
   },
   {
    "duration": 2,
    "start_time": "2023-06-30T07:15:49.166Z"
   },
   {
    "duration": 106,
    "start_time": "2023-06-30T07:15:49.170Z"
   },
   {
    "duration": 11,
    "start_time": "2023-06-30T07:15:49.278Z"
   },
   {
    "duration": 6,
    "start_time": "2023-06-30T07:15:49.291Z"
   },
   {
    "duration": 36,
    "start_time": "2023-06-30T07:15:49.299Z"
   },
   {
    "duration": 12,
    "start_time": "2023-06-30T07:15:49.337Z"
   },
   {
    "duration": 14,
    "start_time": "2023-06-30T07:15:49.350Z"
   },
   {
    "duration": 4,
    "start_time": "2023-06-30T07:15:49.366Z"
   },
   {
    "duration": 212,
    "start_time": "2023-06-30T07:15:49.372Z"
   },
   {
    "duration": 35,
    "start_time": "2023-06-30T07:15:49.586Z"
   },
   {
    "duration": 100,
    "start_time": "2023-06-30T07:15:49.623Z"
   },
   {
    "duration": 0,
    "start_time": "2023-06-30T07:15:49.726Z"
   },
   {
    "duration": 0,
    "start_time": "2023-06-30T07:15:49.727Z"
   },
   {
    "duration": 0,
    "start_time": "2023-06-30T07:15:49.729Z"
   },
   {
    "duration": 0,
    "start_time": "2023-06-30T07:15:49.730Z"
   },
   {
    "duration": 0,
    "start_time": "2023-06-30T07:15:49.731Z"
   },
   {
    "duration": 7,
    "start_time": "2023-06-30T07:16:11.754Z"
   },
   {
    "duration": 87,
    "start_time": "2023-06-30T07:16:14.326Z"
   },
   {
    "duration": 6,
    "start_time": "2023-06-30T07:16:29.370Z"
   },
   {
    "duration": 8,
    "start_time": "2023-06-30T07:16:31.494Z"
   },
   {
    "duration": 8,
    "start_time": "2023-06-30T07:16:36.619Z"
   },
   {
    "duration": 111,
    "start_time": "2023-06-30T07:18:07.341Z"
   },
   {
    "duration": 161,
    "start_time": "2023-06-30T07:21:22.344Z"
   },
   {
    "duration": 165,
    "start_time": "2023-06-30T07:21:41.478Z"
   },
   {
    "duration": 14,
    "start_time": "2023-06-30T07:22:21.821Z"
   },
   {
    "duration": 144,
    "start_time": "2023-06-30T07:28:08.227Z"
   },
   {
    "duration": 470,
    "start_time": "2023-06-30T07:28:45.324Z"
   },
   {
    "duration": 117,
    "start_time": "2023-06-30T07:29:07.565Z"
   },
   {
    "duration": 125,
    "start_time": "2023-06-30T07:29:22.755Z"
   },
   {
    "duration": 6,
    "start_time": "2023-06-30T07:30:28.674Z"
   },
   {
    "duration": 16,
    "start_time": "2023-06-30T07:30:46.176Z"
   },
   {
    "duration": 19,
    "start_time": "2023-06-30T07:31:09.297Z"
   },
   {
    "duration": 17,
    "start_time": "2023-06-30T07:31:47.196Z"
   },
   {
    "duration": 11,
    "start_time": "2023-06-30T07:32:31.386Z"
   },
   {
    "duration": 183,
    "start_time": "2023-06-30T07:33:56.159Z"
   },
   {
    "duration": 128,
    "start_time": "2023-06-30T07:33:58.234Z"
   },
   {
    "duration": 334,
    "start_time": "2023-06-30T07:36:23.565Z"
   },
   {
    "duration": 203,
    "start_time": "2023-06-30T07:38:13.188Z"
   },
   {
    "duration": 280,
    "start_time": "2023-06-30T07:38:23.354Z"
   },
   {
    "duration": 217,
    "start_time": "2023-06-30T07:38:33.264Z"
   },
   {
    "duration": 221,
    "start_time": "2023-06-30T07:38:45.115Z"
   },
   {
    "duration": 230,
    "start_time": "2023-06-30T07:52:45.940Z"
   },
   {
    "duration": 372,
    "start_time": "2023-06-30T07:59:27.985Z"
   },
   {
    "duration": 252,
    "start_time": "2023-06-30T07:59:49.063Z"
   },
   {
    "duration": 272,
    "start_time": "2023-06-30T08:00:42.638Z"
   },
   {
    "duration": 275,
    "start_time": "2023-06-30T09:23:50.756Z"
   },
   {
    "duration": 318,
    "start_time": "2023-06-30T09:24:06.223Z"
   },
   {
    "duration": 238,
    "start_time": "2023-06-30T09:24:24.799Z"
   },
   {
    "duration": 375,
    "start_time": "2023-06-30T09:25:49.986Z"
   },
   {
    "duration": 224,
    "start_time": "2023-06-30T09:25:58.042Z"
   },
   {
    "duration": 219,
    "start_time": "2023-06-30T09:26:12.349Z"
   },
   {
    "duration": 307,
    "start_time": "2023-06-30T09:30:13.025Z"
   },
   {
    "duration": 13,
    "start_time": "2023-06-30T09:31:25.541Z"
   },
   {
    "duration": 265,
    "start_time": "2023-06-30T09:33:10.049Z"
   },
   {
    "duration": 339,
    "start_time": "2023-06-30T09:33:41.013Z"
   },
   {
    "duration": 306,
    "start_time": "2023-06-30T09:41:21.323Z"
   },
   {
    "duration": 272,
    "start_time": "2023-06-30T09:44:28.196Z"
   },
   {
    "duration": 273,
    "start_time": "2023-06-30T09:44:35.614Z"
   },
   {
    "duration": 292,
    "start_time": "2023-06-30T09:44:55.812Z"
   },
   {
    "duration": 275,
    "start_time": "2023-06-30T09:45:19.556Z"
   },
   {
    "duration": 380,
    "start_time": "2023-06-30T09:45:39.455Z"
   },
   {
    "duration": 295,
    "start_time": "2023-06-30T09:45:46.197Z"
   },
   {
    "duration": 293,
    "start_time": "2023-06-30T09:46:38.036Z"
   },
   {
    "duration": 250,
    "start_time": "2023-06-30T09:48:10.060Z"
   },
   {
    "duration": 13,
    "start_time": "2023-06-30T09:59:01.467Z"
   },
   {
    "duration": 9,
    "start_time": "2023-06-30T09:59:51.147Z"
   },
   {
    "duration": 8,
    "start_time": "2023-06-30T10:00:09.849Z"
   },
   {
    "duration": 132,
    "start_time": "2023-06-30T10:00:27.273Z"
   },
   {
    "duration": 93,
    "start_time": "2023-06-30T10:00:51.311Z"
   },
   {
    "duration": 4,
    "start_time": "2023-06-30T10:03:40.655Z"
   },
   {
    "duration": 4,
    "start_time": "2023-06-30T10:07:24.038Z"
   },
   {
    "duration": 118,
    "start_time": "2023-06-30T10:11:03.207Z"
   },
   {
    "duration": 106,
    "start_time": "2023-06-30T10:13:15.113Z"
   },
   {
    "duration": 8,
    "start_time": "2023-06-30T10:13:47.998Z"
   },
   {
    "duration": 126,
    "start_time": "2023-06-30T10:14:34.817Z"
   },
   {
    "duration": 114,
    "start_time": "2023-06-30T10:15:03.287Z"
   },
   {
    "duration": 107,
    "start_time": "2023-06-30T10:40:53.627Z"
   },
   {
    "duration": 4,
    "start_time": "2023-06-30T10:52:32.133Z"
   },
   {
    "duration": 18,
    "start_time": "2023-06-30T10:59:13.355Z"
   },
   {
    "duration": 129,
    "start_time": "2023-06-30T11:00:27.433Z"
   },
   {
    "duration": 133,
    "start_time": "2023-06-30T11:01:06.367Z"
   },
   {
    "duration": 128,
    "start_time": "2023-06-30T11:01:59.901Z"
   },
   {
    "duration": 85,
    "start_time": "2023-06-30T11:02:24.937Z"
   },
   {
    "duration": 124,
    "start_time": "2023-06-30T11:02:37.732Z"
   },
   {
    "duration": 10,
    "start_time": "2023-06-30T11:02:40.296Z"
   },
   {
    "duration": 230,
    "start_time": "2023-06-30T11:07:03.769Z"
   },
   {
    "duration": 112,
    "start_time": "2023-06-30T11:09:14.139Z"
   },
   {
    "duration": 140,
    "start_time": "2023-06-30T11:10:51.585Z"
   },
   {
    "duration": 199,
    "start_time": "2023-06-30T11:11:15.206Z"
   },
   {
    "duration": 124,
    "start_time": "2023-06-30T11:11:20.283Z"
   },
   {
    "duration": 7,
    "start_time": "2023-06-30T11:11:23.024Z"
   },
   {
    "duration": 8,
    "start_time": "2023-06-30T11:12:13.196Z"
   },
   {
    "duration": 483,
    "start_time": "2023-06-30T11:12:29.938Z"
   },
   {
    "duration": 22,
    "start_time": "2023-06-30T11:12:34.635Z"
   },
   {
    "duration": 9,
    "start_time": "2023-06-30T11:38:42.830Z"
   },
   {
    "duration": 10,
    "start_time": "2023-06-30T11:39:20.640Z"
   },
   {
    "duration": 1651,
    "start_time": "2023-06-30T11:56:55.924Z"
   },
   {
    "duration": 1749,
    "start_time": "2023-06-30T11:57:16.879Z"
   },
   {
    "duration": 21,
    "start_time": "2023-06-30T11:57:26.008Z"
   },
   {
    "duration": 10,
    "start_time": "2023-06-30T12:01:28.844Z"
   },
   {
    "duration": 30,
    "start_time": "2023-06-30T12:02:49.818Z"
   },
   {
    "duration": 6,
    "start_time": "2023-06-30T12:15:55.304Z"
   },
   {
    "duration": 2405,
    "start_time": "2023-06-30T12:19:31.717Z"
   },
   {
    "duration": 16,
    "start_time": "2023-06-30T12:20:12.417Z"
   },
   {
    "duration": 28,
    "start_time": "2023-06-30T12:31:35.944Z"
   },
   {
    "duration": 1467,
    "start_time": "2023-06-30T12:31:50.160Z"
   },
   {
    "duration": 12,
    "start_time": "2023-06-30T12:32:03.623Z"
   },
   {
    "duration": 22,
    "start_time": "2023-06-30T12:34:49.566Z"
   },
   {
    "duration": 3,
    "start_time": "2023-06-30T12:35:55.420Z"
   },
   {
    "duration": 19,
    "start_time": "2023-06-30T12:36:04.406Z"
   },
   {
    "duration": 4,
    "start_time": "2023-06-30T12:37:58.993Z"
   },
   {
    "duration": 5,
    "start_time": "2023-06-30T12:38:12.707Z"
   },
   {
    "duration": 14,
    "start_time": "2023-06-30T12:40:08.638Z"
   },
   {
    "duration": 15,
    "start_time": "2023-06-30T12:40:52.957Z"
   },
   {
    "duration": 14,
    "start_time": "2023-06-30T12:42:22.377Z"
   },
   {
    "duration": 17,
    "start_time": "2023-06-30T12:42:36.713Z"
   },
   {
    "duration": 14,
    "start_time": "2023-06-30T12:42:48.483Z"
   },
   {
    "duration": 1345,
    "start_time": "2023-06-30T12:43:49.094Z"
   },
   {
    "duration": 4,
    "start_time": "2023-06-30T12:43:58.675Z"
   },
   {
    "duration": 1294,
    "start_time": "2023-06-30T12:44:24.145Z"
   },
   {
    "duration": 8,
    "start_time": "2023-06-30T12:44:40.805Z"
   },
   {
    "duration": 12,
    "start_time": "2023-06-30T12:44:43.784Z"
   },
   {
    "duration": 144,
    "start_time": "2023-06-30T12:44:46.663Z"
   },
   {
    "duration": 1105,
    "start_time": "2023-06-30T12:45:45.237Z"
   },
   {
    "duration": 2,
    "start_time": "2023-06-30T12:45:46.344Z"
   },
   {
    "duration": 88,
    "start_time": "2023-06-30T12:45:46.347Z"
   },
   {
    "duration": 9,
    "start_time": "2023-06-30T12:45:46.437Z"
   },
   {
    "duration": 16,
    "start_time": "2023-06-30T12:45:46.447Z"
   },
   {
    "duration": 23,
    "start_time": "2023-06-30T12:45:46.464Z"
   },
   {
    "duration": 39,
    "start_time": "2023-06-30T12:45:46.488Z"
   },
   {
    "duration": 25,
    "start_time": "2023-06-30T12:45:46.529Z"
   },
   {
    "duration": 4,
    "start_time": "2023-06-30T12:45:46.556Z"
   },
   {
    "duration": 134,
    "start_time": "2023-06-30T12:45:46.563Z"
   },
   {
    "duration": 16,
    "start_time": "2023-06-30T12:45:46.699Z"
   },
   {
    "duration": 13,
    "start_time": "2023-06-30T12:45:46.717Z"
   },
   {
    "duration": 62,
    "start_time": "2023-06-30T12:45:46.732Z"
   },
   {
    "duration": 4,
    "start_time": "2023-06-30T12:45:46.796Z"
   },
   {
    "duration": 14,
    "start_time": "2023-06-30T12:45:46.801Z"
   },
   {
    "duration": 18,
    "start_time": "2023-06-30T12:45:46.817Z"
   },
   {
    "duration": 19,
    "start_time": "2023-06-30T12:45:46.837Z"
   },
   {
    "duration": 12,
    "start_time": "2023-06-30T12:45:46.858Z"
   },
   {
    "duration": 170,
    "start_time": "2023-06-30T12:45:46.871Z"
   },
   {
    "duration": 116,
    "start_time": "2023-06-30T12:45:47.042Z"
   },
   {
    "duration": 11,
    "start_time": "2023-06-30T12:45:47.159Z"
   },
   {
    "duration": 292,
    "start_time": "2023-06-30T12:45:47.171Z"
   },
   {
    "duration": 216,
    "start_time": "2023-06-30T12:45:47.465Z"
   },
   {
    "duration": 296,
    "start_time": "2023-06-30T12:45:47.684Z"
   },
   {
    "duration": 203,
    "start_time": "2023-06-30T12:45:47.981Z"
   },
   {
    "duration": 293,
    "start_time": "2023-06-30T12:45:48.186Z"
   },
   {
    "duration": 8,
    "start_time": "2023-06-30T12:45:48.480Z"
   },
   {
    "duration": 119,
    "start_time": "2023-06-30T12:45:48.499Z"
   },
   {
    "duration": 5,
    "start_time": "2023-06-30T12:45:48.620Z"
   },
   {
    "duration": 120,
    "start_time": "2023-06-30T12:45:48.626Z"
   },
   {
    "duration": 3,
    "start_time": "2023-06-30T12:45:48.747Z"
   },
   {
    "duration": 78,
    "start_time": "2023-06-30T12:45:48.751Z"
   },
   {
    "duration": 0,
    "start_time": "2023-06-30T12:45:48.831Z"
   },
   {
    "duration": 0,
    "start_time": "2023-06-30T12:45:48.832Z"
   },
   {
    "duration": 0,
    "start_time": "2023-06-30T12:45:48.833Z"
   },
   {
    "duration": 0,
    "start_time": "2023-06-30T12:45:48.834Z"
   },
   {
    "duration": 0,
    "start_time": "2023-06-30T12:45:48.835Z"
   },
   {
    "duration": 0,
    "start_time": "2023-06-30T12:45:48.836Z"
   },
   {
    "duration": 0,
    "start_time": "2023-06-30T12:45:48.837Z"
   },
   {
    "duration": 0,
    "start_time": "2023-06-30T12:45:48.838Z"
   },
   {
    "duration": 0,
    "start_time": "2023-06-30T12:45:48.839Z"
   },
   {
    "duration": 0,
    "start_time": "2023-06-30T12:45:48.839Z"
   },
   {
    "duration": 0,
    "start_time": "2023-06-30T12:45:48.840Z"
   },
   {
    "duration": 1060,
    "start_time": "2023-06-30T12:48:18.038Z"
   },
   {
    "duration": 3,
    "start_time": "2023-06-30T12:48:19.100Z"
   },
   {
    "duration": 65,
    "start_time": "2023-06-30T12:48:19.104Z"
   },
   {
    "duration": 7,
    "start_time": "2023-06-30T12:48:19.170Z"
   },
   {
    "duration": 4,
    "start_time": "2023-06-30T12:48:19.179Z"
   },
   {
    "duration": 9,
    "start_time": "2023-06-30T12:48:19.184Z"
   },
   {
    "duration": 20,
    "start_time": "2023-06-30T12:48:19.194Z"
   },
   {
    "duration": 28,
    "start_time": "2023-06-30T12:48:19.216Z"
   },
   {
    "duration": 20,
    "start_time": "2023-06-30T12:48:19.245Z"
   },
   {
    "duration": 65,
    "start_time": "2023-06-30T12:48:19.266Z"
   },
   {
    "duration": 12,
    "start_time": "2023-06-30T12:48:19.332Z"
   },
   {
    "duration": 32,
    "start_time": "2023-06-30T12:48:19.345Z"
   },
   {
    "duration": 32,
    "start_time": "2023-06-30T12:48:19.378Z"
   },
   {
    "duration": 6,
    "start_time": "2023-06-30T12:48:19.415Z"
   },
   {
    "duration": 11,
    "start_time": "2023-06-30T12:48:19.423Z"
   },
   {
    "duration": 15,
    "start_time": "2023-06-30T12:48:19.436Z"
   },
   {
    "duration": 5,
    "start_time": "2023-06-30T12:48:19.453Z"
   },
   {
    "duration": 13,
    "start_time": "2023-06-30T12:48:19.459Z"
   },
   {
    "duration": 178,
    "start_time": "2023-06-30T12:48:19.473Z"
   },
   {
    "duration": 105,
    "start_time": "2023-06-30T12:48:19.652Z"
   },
   {
    "duration": 10,
    "start_time": "2023-06-30T12:48:19.759Z"
   },
   {
    "duration": 267,
    "start_time": "2023-06-30T12:48:19.771Z"
   },
   {
    "duration": 175,
    "start_time": "2023-06-30T12:48:20.039Z"
   },
   {
    "duration": 265,
    "start_time": "2023-06-30T12:48:20.216Z"
   },
   {
    "duration": 191,
    "start_time": "2023-06-30T12:48:20.483Z"
   },
   {
    "duration": 309,
    "start_time": "2023-06-30T12:48:20.675Z"
   },
   {
    "duration": 15,
    "start_time": "2023-06-30T12:48:20.985Z"
   },
   {
    "duration": 124,
    "start_time": "2023-06-30T12:48:21.002Z"
   },
   {
    "duration": 4,
    "start_time": "2023-06-30T12:48:21.128Z"
   },
   {
    "duration": 117,
    "start_time": "2023-06-30T12:48:21.134Z"
   },
   {
    "duration": 4,
    "start_time": "2023-06-30T12:48:21.253Z"
   },
   {
    "duration": 89,
    "start_time": "2023-06-30T12:48:21.258Z"
   },
   {
    "duration": 0,
    "start_time": "2023-06-30T12:48:21.349Z"
   },
   {
    "duration": 0,
    "start_time": "2023-06-30T12:48:21.350Z"
   },
   {
    "duration": 0,
    "start_time": "2023-06-30T12:48:21.350Z"
   },
   {
    "duration": 0,
    "start_time": "2023-06-30T12:48:21.351Z"
   },
   {
    "duration": 0,
    "start_time": "2023-06-30T12:48:21.352Z"
   },
   {
    "duration": 0,
    "start_time": "2023-06-30T12:48:21.352Z"
   },
   {
    "duration": 0,
    "start_time": "2023-06-30T12:48:21.354Z"
   },
   {
    "duration": 0,
    "start_time": "2023-06-30T12:48:21.355Z"
   },
   {
    "duration": 0,
    "start_time": "2023-06-30T12:48:21.356Z"
   },
   {
    "duration": 0,
    "start_time": "2023-06-30T12:48:21.357Z"
   },
   {
    "duration": 0,
    "start_time": "2023-06-30T12:48:21.358Z"
   },
   {
    "duration": 987,
    "start_time": "2023-06-30T12:48:36.766Z"
   },
   {
    "duration": 2,
    "start_time": "2023-06-30T12:48:37.756Z"
   },
   {
    "duration": 105,
    "start_time": "2023-06-30T12:48:37.759Z"
   },
   {
    "duration": 8,
    "start_time": "2023-06-30T12:48:37.866Z"
   },
   {
    "duration": 7,
    "start_time": "2023-06-30T12:48:37.875Z"
   },
   {
    "duration": 11,
    "start_time": "2023-06-30T12:48:37.883Z"
   },
   {
    "duration": 9,
    "start_time": "2023-06-30T12:48:37.895Z"
   },
   {
    "duration": 10,
    "start_time": "2023-06-30T12:48:37.906Z"
   },
   {
    "duration": 15,
    "start_time": "2023-06-30T12:48:37.918Z"
   },
   {
    "duration": 69,
    "start_time": "2023-06-30T12:48:37.936Z"
   },
   {
    "duration": 17,
    "start_time": "2023-06-30T12:48:38.007Z"
   },
   {
    "duration": 9,
    "start_time": "2023-06-30T12:48:38.026Z"
   },
   {
    "duration": 37,
    "start_time": "2023-06-30T12:48:38.037Z"
   },
   {
    "duration": 3,
    "start_time": "2023-06-30T12:48:38.075Z"
   },
   {
    "duration": 6,
    "start_time": "2023-06-30T12:48:38.080Z"
   },
   {
    "duration": 21,
    "start_time": "2023-06-30T12:48:38.088Z"
   },
   {
    "duration": 8,
    "start_time": "2023-06-30T12:48:38.110Z"
   },
   {
    "duration": 16,
    "start_time": "2023-06-30T12:48:38.120Z"
   },
   {
    "duration": 164,
    "start_time": "2023-06-30T12:48:38.138Z"
   },
   {
    "duration": 108,
    "start_time": "2023-06-30T12:48:38.303Z"
   },
   {
    "duration": 12,
    "start_time": "2023-06-30T12:48:38.412Z"
   },
   {
    "duration": 273,
    "start_time": "2023-06-30T12:48:38.425Z"
   },
   {
    "duration": 179,
    "start_time": "2023-06-30T12:48:38.699Z"
   },
   {
    "duration": 295,
    "start_time": "2023-06-30T12:48:38.879Z"
   },
   {
    "duration": 193,
    "start_time": "2023-06-30T12:48:39.175Z"
   },
   {
    "duration": 312,
    "start_time": "2023-06-30T12:48:39.370Z"
   },
   {
    "duration": 15,
    "start_time": "2023-06-30T12:48:39.684Z"
   },
   {
    "duration": 133,
    "start_time": "2023-06-30T12:48:39.704Z"
   },
   {
    "duration": 3,
    "start_time": "2023-06-30T12:48:39.839Z"
   },
   {
    "duration": 120,
    "start_time": "2023-06-30T12:48:39.844Z"
   },
   {
    "duration": 3,
    "start_time": "2023-06-30T12:48:39.966Z"
   },
   {
    "duration": 222,
    "start_time": "2023-06-30T12:48:39.970Z"
   },
   {
    "duration": 142,
    "start_time": "2023-06-30T12:48:40.194Z"
   },
   {
    "duration": 5,
    "start_time": "2023-06-30T12:48:40.338Z"
   },
   {
    "duration": 9,
    "start_time": "2023-06-30T12:48:40.344Z"
   },
   {
    "duration": 72,
    "start_time": "2023-06-30T12:48:40.354Z"
   },
   {
    "duration": 1,
    "start_time": "2023-06-30T12:48:40.427Z"
   },
   {
    "duration": 0,
    "start_time": "2023-06-30T12:48:40.429Z"
   },
   {
    "duration": 0,
    "start_time": "2023-06-30T12:48:40.430Z"
   },
   {
    "duration": 0,
    "start_time": "2023-06-30T12:48:40.432Z"
   },
   {
    "duration": 0,
    "start_time": "2023-06-30T12:48:40.433Z"
   },
   {
    "duration": 0,
    "start_time": "2023-06-30T12:48:40.434Z"
   },
   {
    "duration": 1087,
    "start_time": "2023-06-30T12:49:00.166Z"
   },
   {
    "duration": 2,
    "start_time": "2023-06-30T12:49:01.255Z"
   },
   {
    "duration": 70,
    "start_time": "2023-06-30T12:49:01.258Z"
   },
   {
    "duration": 9,
    "start_time": "2023-06-30T12:49:01.330Z"
   },
   {
    "duration": 24,
    "start_time": "2023-06-30T12:49:01.342Z"
   },
   {
    "duration": 32,
    "start_time": "2023-06-30T12:49:01.367Z"
   },
   {
    "duration": 61,
    "start_time": "2023-06-30T12:49:01.401Z"
   },
   {
    "duration": 40,
    "start_time": "2023-06-30T12:49:01.464Z"
   },
   {
    "duration": 44,
    "start_time": "2023-06-30T12:49:01.506Z"
   },
   {
    "duration": 78,
    "start_time": "2023-06-30T12:49:01.552Z"
   },
   {
    "duration": 12,
    "start_time": "2023-06-30T12:49:01.632Z"
   },
   {
    "duration": 31,
    "start_time": "2023-06-30T12:49:01.645Z"
   },
   {
    "duration": 54,
    "start_time": "2023-06-30T12:49:01.678Z"
   },
   {
    "duration": 4,
    "start_time": "2023-06-30T12:49:01.735Z"
   },
   {
    "duration": 38,
    "start_time": "2023-06-30T12:49:01.740Z"
   },
   {
    "duration": 43,
    "start_time": "2023-06-30T12:49:01.779Z"
   },
   {
    "duration": 17,
    "start_time": "2023-06-30T12:49:01.823Z"
   },
   {
    "duration": 52,
    "start_time": "2023-06-30T12:49:01.841Z"
   },
   {
    "duration": 178,
    "start_time": "2023-06-30T12:49:01.894Z"
   },
   {
    "duration": 111,
    "start_time": "2023-06-30T12:49:02.073Z"
   },
   {
    "duration": 42,
    "start_time": "2023-06-30T12:49:02.186Z"
   },
   {
    "duration": 314,
    "start_time": "2023-06-30T12:49:02.230Z"
   },
   {
    "duration": 199,
    "start_time": "2023-06-30T12:49:02.546Z"
   },
   {
    "duration": 245,
    "start_time": "2023-06-30T12:49:02.746Z"
   },
   {
    "duration": 202,
    "start_time": "2023-06-30T12:49:02.999Z"
   },
   {
    "duration": 290,
    "start_time": "2023-06-30T12:49:03.203Z"
   },
   {
    "duration": 10,
    "start_time": "2023-06-30T12:49:03.506Z"
   },
   {
    "duration": 128,
    "start_time": "2023-06-30T12:49:03.518Z"
   },
   {
    "duration": 4,
    "start_time": "2023-06-30T12:49:03.647Z"
   },
   {
    "duration": 121,
    "start_time": "2023-06-30T12:49:03.652Z"
   },
   {
    "duration": 3,
    "start_time": "2023-06-30T12:49:03.775Z"
   },
   {
    "duration": 212,
    "start_time": "2023-06-30T12:49:03.780Z"
   },
   {
    "duration": 151,
    "start_time": "2023-06-30T12:49:03.993Z"
   },
   {
    "duration": 5,
    "start_time": "2023-06-30T12:49:04.145Z"
   },
   {
    "duration": 7,
    "start_time": "2023-06-30T12:49:04.152Z"
   },
   {
    "duration": 21,
    "start_time": "2023-06-30T12:49:04.160Z"
   },
   {
    "duration": 31,
    "start_time": "2023-06-30T12:49:04.183Z"
   },
   {
    "duration": 10,
    "start_time": "2023-06-30T12:49:04.215Z"
   },
   {
    "duration": 7,
    "start_time": "2023-06-30T12:49:04.226Z"
   },
   {
    "duration": 25,
    "start_time": "2023-06-30T12:49:04.234Z"
   },
   {
    "duration": 12,
    "start_time": "2023-06-30T12:49:04.262Z"
   },
   {
    "duration": 10,
    "start_time": "2023-06-30T12:52:34.915Z"
   },
   {
    "duration": 12,
    "start_time": "2023-06-30T12:52:37.488Z"
   },
   {
    "duration": 20,
    "start_time": "2023-06-30T12:52:44.559Z"
   },
   {
    "duration": 13,
    "start_time": "2023-06-30T12:54:07.452Z"
   },
   {
    "duration": 1968,
    "start_time": "2023-07-04T12:42:07.928Z"
   },
   {
    "duration": 12,
    "start_time": "2023-07-04T12:42:09.899Z"
   },
   {
    "duration": 185,
    "start_time": "2023-07-04T12:42:09.917Z"
   },
   {
    "duration": 27,
    "start_time": "2023-07-04T12:42:10.108Z"
   },
   {
    "duration": 20,
    "start_time": "2023-07-04T12:42:10.139Z"
   },
   {
    "duration": 49,
    "start_time": "2023-07-04T12:42:10.166Z"
   },
   {
    "duration": 30,
    "start_time": "2023-07-04T12:42:10.217Z"
   },
   {
    "duration": 75,
    "start_time": "2023-07-04T12:42:10.249Z"
   },
   {
    "duration": 18,
    "start_time": "2023-07-04T12:42:10.327Z"
   },
   {
    "duration": 277,
    "start_time": "2023-07-04T12:42:10.348Z"
   },
   {
    "duration": 15,
    "start_time": "2023-07-04T12:42:10.628Z"
   },
   {
    "duration": 65,
    "start_time": "2023-07-04T12:42:10.646Z"
   },
   {
    "duration": 119,
    "start_time": "2023-07-04T12:42:10.713Z"
   },
   {
    "duration": 7,
    "start_time": "2023-07-04T12:42:10.837Z"
   },
   {
    "duration": 65,
    "start_time": "2023-07-04T12:42:10.846Z"
   },
   {
    "duration": 25,
    "start_time": "2023-07-04T12:42:10.913Z"
   },
   {
    "duration": 8,
    "start_time": "2023-07-04T12:42:10.941Z"
   },
   {
    "duration": 72,
    "start_time": "2023-07-04T12:42:10.951Z"
   },
   {
    "duration": 239,
    "start_time": "2023-07-04T12:42:11.026Z"
   },
   {
    "duration": 227,
    "start_time": "2023-07-04T12:42:11.273Z"
   },
   {
    "duration": 22,
    "start_time": "2023-07-04T12:42:11.502Z"
   },
   {
    "duration": 560,
    "start_time": "2023-07-04T12:42:11.530Z"
   },
   {
    "duration": 260,
    "start_time": "2023-07-04T12:42:12.092Z"
   },
   {
    "duration": 397,
    "start_time": "2023-07-04T12:42:12.371Z"
   },
   {
    "duration": 326,
    "start_time": "2023-07-04T12:42:12.770Z"
   },
   {
    "duration": 396,
    "start_time": "2023-07-04T12:42:13.099Z"
   },
   {
    "duration": 22,
    "start_time": "2023-07-04T12:42:13.504Z"
   },
   {
    "duration": 248,
    "start_time": "2023-07-04T12:42:13.528Z"
   },
   {
    "duration": 18,
    "start_time": "2023-07-04T12:42:13.779Z"
   },
   {
    "duration": 230,
    "start_time": "2023-07-04T12:42:13.799Z"
   },
   {
    "duration": 10,
    "start_time": "2023-07-04T12:42:14.031Z"
   },
   {
    "duration": 386,
    "start_time": "2023-07-04T12:42:14.044Z"
   },
   {
    "duration": 219,
    "start_time": "2023-07-04T12:42:14.433Z"
   },
   {
    "duration": 11,
    "start_time": "2023-07-04T12:42:14.658Z"
   },
   {
    "duration": 11,
    "start_time": "2023-07-04T12:42:14.671Z"
   },
   {
    "duration": 56,
    "start_time": "2023-07-04T12:42:14.684Z"
   },
   {
    "duration": 72,
    "start_time": "2023-07-04T12:42:14.742Z"
   },
   {
    "duration": 15,
    "start_time": "2023-07-04T12:42:14.816Z"
   },
   {
    "duration": 14,
    "start_time": "2023-07-04T12:42:14.833Z"
   },
   {
    "duration": 132,
    "start_time": "2023-07-04T12:42:14.850Z"
   },
   {
    "duration": 20,
    "start_time": "2023-07-04T12:42:14.991Z"
   },
   {
    "duration": 12,
    "start_time": "2023-07-04T12:52:41.278Z"
   },
   {
    "duration": 181,
    "start_time": "2023-07-04T12:52:50.655Z"
   },
   {
    "duration": 13,
    "start_time": "2023-07-04T12:53:00.576Z"
   },
   {
    "duration": 223,
    "start_time": "2023-07-04T12:53:15.904Z"
   },
   {
    "duration": 8,
    "start_time": "2023-07-04T12:53:20.077Z"
   },
   {
    "duration": 309,
    "start_time": "2023-07-04T12:53:37.916Z"
   },
   {
    "duration": 214,
    "start_time": "2023-07-04T12:55:14.836Z"
   },
   {
    "duration": 3415,
    "start_time": "2023-07-04T12:55:55.911Z"
   },
   {
    "duration": 194,
    "start_time": "2023-07-04T12:56:11.876Z"
   },
   {
    "duration": 2993,
    "start_time": "2023-07-04T12:56:15.136Z"
   },
   {
    "duration": 248,
    "start_time": "2023-07-04T12:56:46.724Z"
   },
   {
    "duration": 10,
    "start_time": "2023-07-04T12:56:49.118Z"
   },
   {
    "duration": 6,
    "start_time": "2023-07-04T12:56:51.842Z"
   },
   {
    "duration": 55,
    "start_time": "2023-07-04T12:56:55.851Z"
   },
   {
    "duration": 15,
    "start_time": "2023-07-04T12:57:06.305Z"
   },
   {
    "duration": 21,
    "start_time": "2023-07-04T12:58:38.078Z"
   },
   {
    "duration": 13,
    "start_time": "2023-07-04T12:59:12.427Z"
   },
   {
    "duration": 199,
    "start_time": "2023-07-04T12:59:32.520Z"
   },
   {
    "duration": 10,
    "start_time": "2023-07-04T12:59:36.631Z"
   },
   {
    "duration": 6,
    "start_time": "2023-07-04T12:59:38.314Z"
   },
   {
    "duration": 28,
    "start_time": "2023-07-04T12:59:40.811Z"
   },
   {
    "duration": 28,
    "start_time": "2023-07-04T12:59:51.579Z"
   },
   {
    "duration": 15,
    "start_time": "2023-07-04T13:00:38.012Z"
   },
   {
    "duration": 11,
    "start_time": "2023-07-04T13:02:16.496Z"
   },
   {
    "duration": 50,
    "start_time": "2023-07-04T13:02:20.446Z"
   },
   {
    "duration": 17,
    "start_time": "2023-07-04T13:03:02.424Z"
   },
   {
    "duration": 14,
    "start_time": "2023-07-04T13:03:08.615Z"
   },
   {
    "duration": 10,
    "start_time": "2023-07-04T13:03:25.402Z"
   },
   {
    "duration": 11,
    "start_time": "2023-07-04T13:03:32.684Z"
   },
   {
    "duration": 388,
    "start_time": "2023-07-04T13:08:02.718Z"
   },
   {
    "duration": 331,
    "start_time": "2023-07-04T13:08:53.565Z"
   },
   {
    "duration": 294,
    "start_time": "2023-07-04T13:09:38.320Z"
   },
   {
    "duration": 280,
    "start_time": "2023-07-04T13:10:46.904Z"
   },
   {
    "duration": 320,
    "start_time": "2023-07-04T13:11:04.216Z"
   },
   {
    "duration": 356,
    "start_time": "2023-07-04T13:12:07.426Z"
   },
   {
    "duration": 185,
    "start_time": "2023-07-04T13:13:06.421Z"
   },
   {
    "duration": 167,
    "start_time": "2023-07-04T13:13:49.126Z"
   },
   {
    "duration": 1551,
    "start_time": "2023-07-04T13:24:32.044Z"
   },
   {
    "duration": 7,
    "start_time": "2023-07-04T13:24:33.603Z"
   },
   {
    "duration": 227,
    "start_time": "2023-07-04T13:24:33.616Z"
   },
   {
    "duration": 17,
    "start_time": "2023-07-04T13:24:33.846Z"
   },
   {
    "duration": 57,
    "start_time": "2023-07-04T13:24:33.864Z"
   },
   {
    "duration": 56,
    "start_time": "2023-07-04T13:24:33.922Z"
   },
   {
    "duration": 79,
    "start_time": "2023-07-04T13:24:33.980Z"
   },
   {
    "duration": 157,
    "start_time": "2023-07-04T13:24:34.061Z"
   },
   {
    "duration": 60,
    "start_time": "2023-07-04T13:24:34.220Z"
   },
   {
    "duration": 155,
    "start_time": "2023-07-04T13:24:34.284Z"
   },
   {
    "duration": 37,
    "start_time": "2023-07-04T13:24:34.442Z"
   },
   {
    "duration": 54,
    "start_time": "2023-07-04T13:24:34.489Z"
   },
   {
    "duration": 168,
    "start_time": "2023-07-04T13:24:34.546Z"
   },
   {
    "duration": 11,
    "start_time": "2023-07-04T13:24:34.718Z"
   },
   {
    "duration": 24,
    "start_time": "2023-07-04T13:24:34.731Z"
   },
   {
    "duration": 81,
    "start_time": "2023-07-04T13:24:34.758Z"
   },
   {
    "duration": 7,
    "start_time": "2023-07-04T13:24:34.841Z"
   },
   {
    "duration": 79,
    "start_time": "2023-07-04T13:24:34.851Z"
   },
   {
    "duration": 253,
    "start_time": "2023-07-04T13:24:34.933Z"
   },
   {
    "duration": 160,
    "start_time": "2023-07-04T13:24:35.188Z"
   },
   {
    "duration": 36,
    "start_time": "2023-07-04T13:24:35.350Z"
   },
   {
    "duration": 608,
    "start_time": "2023-07-04T13:24:35.388Z"
   },
   {
    "duration": 380,
    "start_time": "2023-07-04T13:24:35.998Z"
   },
   {
    "duration": 414,
    "start_time": "2023-07-04T13:24:36.380Z"
   },
   {
    "duration": 413,
    "start_time": "2023-07-04T13:24:36.796Z"
   },
   {
    "duration": 442,
    "start_time": "2023-07-04T13:24:37.216Z"
   },
   {
    "duration": 29,
    "start_time": "2023-07-04T13:24:37.660Z"
   },
   {
    "duration": 223,
    "start_time": "2023-07-04T13:24:37.693Z"
   },
   {
    "duration": 0,
    "start_time": "2023-07-04T13:24:37.919Z"
   },
   {
    "duration": 0,
    "start_time": "2023-07-04T13:24:37.923Z"
   },
   {
    "duration": 0,
    "start_time": "2023-07-04T13:24:37.924Z"
   },
   {
    "duration": 0,
    "start_time": "2023-07-04T13:24:37.935Z"
   },
   {
    "duration": 0,
    "start_time": "2023-07-04T13:24:37.936Z"
   },
   {
    "duration": 0,
    "start_time": "2023-07-04T13:24:37.939Z"
   },
   {
    "duration": 0,
    "start_time": "2023-07-04T13:24:37.941Z"
   },
   {
    "duration": 0,
    "start_time": "2023-07-04T13:24:37.942Z"
   },
   {
    "duration": 0,
    "start_time": "2023-07-04T13:24:37.944Z"
   },
   {
    "duration": 0,
    "start_time": "2023-07-04T13:24:37.946Z"
   },
   {
    "duration": 0,
    "start_time": "2023-07-04T13:24:37.948Z"
   },
   {
    "duration": 0,
    "start_time": "2023-07-04T13:24:37.950Z"
   },
   {
    "duration": 0,
    "start_time": "2023-07-04T13:24:37.954Z"
   },
   {
    "duration": 231,
    "start_time": "2023-07-04T13:25:11.729Z"
   },
   {
    "duration": 6,
    "start_time": "2023-07-04T13:25:15.816Z"
   },
   {
    "duration": 215,
    "start_time": "2023-07-04T13:25:19.715Z"
   },
   {
    "duration": 1541,
    "start_time": "2023-07-04T13:25:27.071Z"
   },
   {
    "duration": 7,
    "start_time": "2023-07-04T13:25:28.614Z"
   },
   {
    "duration": 60,
    "start_time": "2023-07-04T13:25:28.623Z"
   },
   {
    "duration": 16,
    "start_time": "2023-07-04T13:25:28.686Z"
   },
   {
    "duration": 35,
    "start_time": "2023-07-04T13:25:28.704Z"
   },
   {
    "duration": 20,
    "start_time": "2023-07-04T13:25:28.741Z"
   },
   {
    "duration": 60,
    "start_time": "2023-07-04T13:25:28.763Z"
   },
   {
    "duration": 17,
    "start_time": "2023-07-04T13:25:28.825Z"
   },
   {
    "duration": 53,
    "start_time": "2023-07-04T13:25:28.844Z"
   },
   {
    "duration": 114,
    "start_time": "2023-07-04T13:25:28.900Z"
   },
   {
    "duration": 18,
    "start_time": "2023-07-04T13:25:29.016Z"
   },
   {
    "duration": 9,
    "start_time": "2023-07-04T13:25:29.037Z"
   },
   {
    "duration": 63,
    "start_time": "2023-07-04T13:25:29.047Z"
   },
   {
    "duration": 13,
    "start_time": "2023-07-04T13:25:29.115Z"
   },
   {
    "duration": 17,
    "start_time": "2023-07-04T13:25:29.131Z"
   },
   {
    "duration": 83,
    "start_time": "2023-07-04T13:25:29.150Z"
   },
   {
    "duration": 8,
    "start_time": "2023-07-04T13:25:29.235Z"
   },
   {
    "duration": 47,
    "start_time": "2023-07-04T13:25:29.245Z"
   },
   {
    "duration": 319,
    "start_time": "2023-07-04T13:25:29.294Z"
   },
   {
    "duration": 175,
    "start_time": "2023-07-04T13:25:29.618Z"
   },
   {
    "duration": 22,
    "start_time": "2023-07-04T13:25:29.795Z"
   },
   {
    "duration": 521,
    "start_time": "2023-07-04T13:25:29.823Z"
   },
   {
    "duration": 321,
    "start_time": "2023-07-04T13:25:30.346Z"
   },
   {
    "duration": 380,
    "start_time": "2023-07-04T13:25:30.668Z"
   },
   {
    "duration": 329,
    "start_time": "2023-07-04T13:25:31.050Z"
   },
   {
    "duration": 394,
    "start_time": "2023-07-04T13:25:31.381Z"
   },
   {
    "duration": 13,
    "start_time": "2023-07-04T13:25:31.777Z"
   },
   {
    "duration": 294,
    "start_time": "2023-07-04T13:25:31.795Z"
   },
   {
    "duration": 6,
    "start_time": "2023-07-04T13:25:32.091Z"
   },
   {
    "duration": 254,
    "start_time": "2023-07-04T13:25:32.099Z"
   },
   {
    "duration": 27,
    "start_time": "2023-07-04T13:25:32.363Z"
   },
   {
    "duration": 431,
    "start_time": "2023-07-04T13:25:32.392Z"
   },
   {
    "duration": 259,
    "start_time": "2023-07-04T13:25:32.829Z"
   },
   {
    "duration": 15,
    "start_time": "2023-07-04T13:25:33.092Z"
   },
   {
    "duration": 26,
    "start_time": "2023-07-04T13:25:33.112Z"
   },
   {
    "duration": 136,
    "start_time": "2023-07-04T13:25:33.141Z"
   },
   {
    "duration": 80,
    "start_time": "2023-07-04T13:25:33.283Z"
   },
   {
    "duration": 45,
    "start_time": "2023-07-04T13:25:33.368Z"
   },
   {
    "duration": 24,
    "start_time": "2023-07-04T13:25:33.419Z"
   },
   {
    "duration": 130,
    "start_time": "2023-07-04T13:25:33.445Z"
   },
   {
    "duration": 79,
    "start_time": "2023-07-04T13:25:33.577Z"
   },
   {
    "duration": 1210,
    "start_time": "2023-07-04T13:55:55.726Z"
   },
   {
    "duration": 3,
    "start_time": "2023-07-04T13:55:56.938Z"
   },
   {
    "duration": 42,
    "start_time": "2023-07-04T13:55:56.953Z"
   },
   {
    "duration": 10,
    "start_time": "2023-07-04T13:55:56.997Z"
   },
   {
    "duration": 6,
    "start_time": "2023-07-04T13:55:57.008Z"
   },
   {
    "duration": 13,
    "start_time": "2023-07-04T13:55:57.016Z"
   },
   {
    "duration": 12,
    "start_time": "2023-07-04T13:55:57.031Z"
   },
   {
    "duration": 27,
    "start_time": "2023-07-04T13:55:57.044Z"
   },
   {
    "duration": 9,
    "start_time": "2023-07-04T13:55:57.073Z"
   },
   {
    "duration": 52,
    "start_time": "2023-07-04T13:55:57.086Z"
   },
   {
    "duration": 12,
    "start_time": "2023-07-04T13:55:57.139Z"
   },
   {
    "duration": 24,
    "start_time": "2023-07-04T13:55:57.153Z"
   },
   {
    "duration": 33,
    "start_time": "2023-07-04T13:55:57.178Z"
   },
   {
    "duration": 4,
    "start_time": "2023-07-04T13:55:57.213Z"
   },
   {
    "duration": 18,
    "start_time": "2023-07-04T13:55:57.219Z"
   },
   {
    "duration": 24,
    "start_time": "2023-07-04T13:55:57.239Z"
   },
   {
    "duration": 8,
    "start_time": "2023-07-04T13:55:57.265Z"
   },
   {
    "duration": 17,
    "start_time": "2023-07-04T13:55:57.275Z"
   },
   {
    "duration": 206,
    "start_time": "2023-07-04T13:55:57.294Z"
   },
   {
    "duration": 129,
    "start_time": "2023-07-04T13:55:57.502Z"
   },
   {
    "duration": 35,
    "start_time": "2023-07-04T13:55:57.632Z"
   },
   {
    "duration": 312,
    "start_time": "2023-07-04T13:55:57.669Z"
   },
   {
    "duration": 241,
    "start_time": "2023-07-04T13:55:57.983Z"
   },
   {
    "duration": 364,
    "start_time": "2023-07-04T13:55:58.226Z"
   },
   {
    "duration": 258,
    "start_time": "2023-07-04T13:55:58.592Z"
   },
   {
    "duration": 342,
    "start_time": "2023-07-04T13:55:58.853Z"
   },
   {
    "duration": 11,
    "start_time": "2023-07-04T13:55:59.197Z"
   },
   {
    "duration": 201,
    "start_time": "2023-07-04T13:55:59.212Z"
   },
   {
    "duration": 4,
    "start_time": "2023-07-04T13:55:59.415Z"
   },
   {
    "duration": 153,
    "start_time": "2023-07-04T13:55:59.420Z"
   },
   {
    "duration": 4,
    "start_time": "2023-07-04T13:55:59.575Z"
   },
   {
    "duration": 247,
    "start_time": "2023-07-04T13:55:59.581Z"
   },
   {
    "duration": 181,
    "start_time": "2023-07-04T13:55:59.830Z"
   },
   {
    "duration": 7,
    "start_time": "2023-07-04T13:56:00.013Z"
   },
   {
    "duration": 54,
    "start_time": "2023-07-04T13:56:00.021Z"
   },
   {
    "duration": 35,
    "start_time": "2023-07-04T13:56:00.077Z"
   },
   {
    "duration": 49,
    "start_time": "2023-07-04T13:56:00.114Z"
   },
   {
    "duration": 11,
    "start_time": "2023-07-04T13:56:00.168Z"
   },
   {
    "duration": 65,
    "start_time": "2023-07-04T13:56:00.181Z"
   },
   {
    "duration": 55,
    "start_time": "2023-07-04T13:56:00.248Z"
   },
   {
    "duration": 24,
    "start_time": "2023-07-04T13:56:00.304Z"
   },
   {
    "duration": 179,
    "start_time": "2023-07-05T07:08:01.120Z"
   },
   {
    "duration": 50,
    "start_time": "2023-07-05T11:25:58.947Z"
   },
   {
    "duration": 1378,
    "start_time": "2023-07-05T11:26:05.364Z"
   },
   {
    "duration": 3,
    "start_time": "2023-07-05T11:26:07.058Z"
   },
   {
    "duration": 79,
    "start_time": "2023-07-05T11:26:08.937Z"
   },
   {
    "duration": 33,
    "start_time": "2023-07-05T11:26:11.843Z"
   },
   {
    "duration": 9,
    "start_time": "2023-07-05T11:26:14.122Z"
   },
   {
    "duration": 13,
    "start_time": "2023-07-05T11:26:15.993Z"
   },
   {
    "duration": 4,
    "start_time": "2023-07-05T11:26:20.673Z"
   },
   {
    "duration": 9,
    "start_time": "2023-07-05T11:26:22.688Z"
   },
   {
    "duration": 11,
    "start_time": "2023-07-05T11:26:35.267Z"
   },
   {
    "duration": 11,
    "start_time": "2023-07-05T11:27:06.599Z"
   },
   {
    "duration": 72,
    "start_time": "2023-07-05T11:29:19.549Z"
   },
   {
    "duration": 19,
    "start_time": "2023-07-05T11:30:20.279Z"
   },
   {
    "duration": 4,
    "start_time": "2023-07-05T11:31:51.891Z"
   },
   {
    "duration": 20,
    "start_time": "2023-07-05T11:31:58.929Z"
   },
   {
    "duration": 9,
    "start_time": "2023-07-05T11:32:33.372Z"
   },
   {
    "duration": 87,
    "start_time": "2023-07-05T11:32:40.924Z"
   },
   {
    "duration": 14,
    "start_time": "2023-07-05T11:33:09.399Z"
   },
   {
    "duration": 13,
    "start_time": "2023-07-05T11:33:26.867Z"
   },
   {
    "duration": 5,
    "start_time": "2023-07-05T11:39:53.652Z"
   },
   {
    "duration": 5,
    "start_time": "2023-07-05T11:40:40.894Z"
   },
   {
    "duration": 5,
    "start_time": "2023-07-05T11:42:08.886Z"
   },
   {
    "duration": 6,
    "start_time": "2023-07-05T11:42:20.433Z"
   },
   {
    "duration": 6,
    "start_time": "2023-07-05T11:42:45.165Z"
   },
   {
    "duration": 4,
    "start_time": "2023-07-05T11:46:17.315Z"
   },
   {
    "duration": 13,
    "start_time": "2023-07-05T11:47:39.405Z"
   },
   {
    "duration": 2185,
    "start_time": "2023-07-05T11:47:55.092Z"
   },
   {
    "duration": 4,
    "start_time": "2023-07-05T11:50:49.601Z"
   },
   {
    "duration": 12,
    "start_time": "2023-07-05T11:51:48.732Z"
   },
   {
    "duration": 5559,
    "start_time": "2023-07-05T11:51:51.525Z"
   },
   {
    "duration": 12,
    "start_time": "2023-07-05T11:52:44.333Z"
   },
   {
    "duration": 254,
    "start_time": "2023-07-05T11:52:46.763Z"
   },
   {
    "duration": 11,
    "start_time": "2023-07-05T12:01:19.203Z"
   },
   {
    "duration": 6163,
    "start_time": "2023-07-05T12:01:22.641Z"
   },
   {
    "duration": 5,
    "start_time": "2023-07-05T12:15:38.848Z"
   },
   {
    "duration": 11,
    "start_time": "2023-07-05T12:15:45.535Z"
   },
   {
    "duration": 5,
    "start_time": "2023-07-05T12:16:04.534Z"
   },
   {
    "duration": 12,
    "start_time": "2023-07-05T12:16:33.668Z"
   },
   {
    "duration": 1966,
    "start_time": "2023-07-05T12:16:38.653Z"
   },
   {
    "duration": 5,
    "start_time": "2023-07-05T12:17:25.903Z"
   },
   {
    "duration": 159,
    "start_time": "2023-07-05T12:17:35.794Z"
   },
   {
    "duration": 6205,
    "start_time": "2023-07-05T12:17:38.693Z"
   },
   {
    "duration": 4,
    "start_time": "2023-07-05T12:19:52.729Z"
   },
   {
    "duration": 96,
    "start_time": "2023-07-05T12:19:55.348Z"
   },
   {
    "duration": 14,
    "start_time": "2023-07-05T12:19:57.976Z"
   },
   {
    "duration": 6,
    "start_time": "2023-07-05T12:19:59.894Z"
   },
   {
    "duration": 78,
    "start_time": "2023-07-05T12:20:03.070Z"
   },
   {
    "duration": 5,
    "start_time": "2023-07-05T12:20:05.493Z"
   },
   {
    "duration": 6,
    "start_time": "2023-07-05T12:20:07.804Z"
   },
   {
    "duration": 19,
    "start_time": "2023-07-05T12:20:10.774Z"
   },
   {
    "duration": 6,
    "start_time": "2023-07-05T12:20:14.510Z"
   },
   {
    "duration": 15,
    "start_time": "2023-07-05T12:20:29.477Z"
   },
   {
    "duration": 204,
    "start_time": "2023-07-05T12:20:32.131Z"
   },
   {
    "duration": 140,
    "start_time": "2023-07-05T12:20:34.076Z"
   },
   {
    "duration": 15,
    "start_time": "2023-07-05T12:20:36.469Z"
   },
   {
    "duration": 307,
    "start_time": "2023-07-05T12:20:38.477Z"
   },
   {
    "duration": 218,
    "start_time": "2023-07-05T12:20:50.410Z"
   },
   {
    "duration": 350,
    "start_time": "2023-07-05T12:20:53.903Z"
   },
   {
    "duration": 220,
    "start_time": "2023-07-05T12:20:56.558Z"
   },
   {
    "duration": 333,
    "start_time": "2023-07-05T12:20:59.446Z"
   },
   {
    "duration": 16,
    "start_time": "2023-07-05T12:21:02.308Z"
   },
   {
    "duration": 15,
    "start_time": "2023-07-05T12:21:05.035Z"
   },
   {
    "duration": 10,
    "start_time": "2023-07-05T12:21:07.663Z"
   },
   {
    "duration": 143,
    "start_time": "2023-07-05T12:21:09.590Z"
   },
   {
    "duration": 5,
    "start_time": "2023-07-05T12:21:13.099Z"
   },
   {
    "duration": 141,
    "start_time": "2023-07-05T12:21:15.991Z"
   },
   {
    "duration": 4,
    "start_time": "2023-07-05T12:21:18.851Z"
   },
   {
    "duration": 236,
    "start_time": "2023-07-05T12:21:22.853Z"
   },
   {
    "duration": 260,
    "start_time": "2023-07-05T12:21:32.017Z"
   },
   {
    "duration": 133,
    "start_time": "2023-07-05T12:22:05.336Z"
   },
   {
    "duration": 166,
    "start_time": "2023-07-05T12:22:16.045Z"
   },
   {
    "duration": 7,
    "start_time": "2023-07-05T12:22:17.972Z"
   },
   {
    "duration": 5,
    "start_time": "2023-07-05T12:22:20.239Z"
   },
   {
    "duration": 26,
    "start_time": "2023-07-05T12:22:22.437Z"
   },
   {
    "duration": 24,
    "start_time": "2023-07-05T12:28:25.945Z"
   },
   {
    "duration": 118,
    "start_time": "2023-07-05T12:29:08.632Z"
   },
   {
    "duration": 118,
    "start_time": "2023-07-05T12:30:35.665Z"
   },
   {
    "duration": 13,
    "start_time": "2023-07-05T12:32:29.621Z"
   },
   {
    "duration": 13,
    "start_time": "2023-07-05T12:32:33.525Z"
   },
   {
    "duration": 114,
    "start_time": "2023-07-05T12:34:23.443Z"
   },
   {
    "duration": 9,
    "start_time": "2023-07-05T12:36:44.780Z"
   },
   {
    "duration": 147,
    "start_time": "2023-07-05T12:39:47.075Z"
   },
   {
    "duration": 16,
    "start_time": "2023-07-05T12:40:25.838Z"
   },
   {
    "duration": 27,
    "start_time": "2023-07-05T12:41:36.790Z"
   },
   {
    "duration": 125,
    "start_time": "2023-07-05T12:42:59.731Z"
   },
   {
    "duration": 11,
    "start_time": "2023-07-05T12:44:05.106Z"
   },
   {
    "duration": 10,
    "start_time": "2023-07-05T12:44:12.189Z"
   },
   {
    "duration": 24,
    "start_time": "2023-07-05T12:44:14.304Z"
   },
   {
    "duration": 125,
    "start_time": "2023-07-05T12:46:42.230Z"
   },
   {
    "duration": 13,
    "start_time": "2023-07-05T12:47:52.393Z"
   },
   {
    "duration": 5599,
    "start_time": "2023-07-05T12:47:55.018Z"
   },
   {
    "duration": 165,
    "start_time": "2023-07-05T12:48:35.357Z"
   },
   {
    "duration": 2047,
    "start_time": "2023-07-05T12:48:37.772Z"
   },
   {
    "duration": 19,
    "start_time": "2023-07-05T13:12:07.864Z"
   },
   {
    "duration": 246,
    "start_time": "2023-07-05T13:12:10.778Z"
   },
   {
    "duration": 13,
    "start_time": "2023-07-05T13:12:21.840Z"
   },
   {
    "duration": 5503,
    "start_time": "2023-07-05T13:12:26.700Z"
   },
   {
    "duration": 11,
    "start_time": "2023-07-05T13:13:29.476Z"
   },
   {
    "duration": 5625,
    "start_time": "2023-07-05T13:13:31.707Z"
   },
   {
    "duration": 13,
    "start_time": "2023-07-05T13:14:09.740Z"
   },
   {
    "duration": 5868,
    "start_time": "2023-07-05T13:14:16.123Z"
   },
   {
    "duration": 12,
    "start_time": "2023-07-05T13:14:58.507Z"
   },
   {
    "duration": 5980,
    "start_time": "2023-07-05T13:15:00.177Z"
   },
   {
    "duration": 14,
    "start_time": "2023-07-05T13:15:34.620Z"
   },
   {
    "duration": 4544,
    "start_time": "2023-07-05T13:15:36.637Z"
   },
   {
    "duration": 5,
    "start_time": "2023-07-05T13:16:08.649Z"
   },
   {
    "duration": 10,
    "start_time": "2023-07-05T13:16:36.441Z"
   },
   {
    "duration": 5076,
    "start_time": "2023-07-05T13:16:43.146Z"
   },
   {
    "duration": 10,
    "start_time": "2023-07-05T13:17:09.793Z"
   },
   {
    "duration": 4311,
    "start_time": "2023-07-05T13:17:12.937Z"
   },
   {
    "duration": 10,
    "start_time": "2023-07-05T13:26:31.690Z"
   },
   {
    "duration": 531,
    "start_time": "2023-07-05T13:26:35.634Z"
   },
   {
    "duration": 12,
    "start_time": "2023-07-05T13:26:53.996Z"
   },
   {
    "duration": 498,
    "start_time": "2023-07-05T13:26:56.964Z"
   },
   {
    "duration": 184,
    "start_time": "2023-07-05T13:27:06.909Z"
   },
   {
    "duration": 474,
    "start_time": "2023-07-05T13:27:09.994Z"
   },
   {
    "duration": 11,
    "start_time": "2023-07-05T13:27:32.407Z"
   },
   {
    "duration": 475,
    "start_time": "2023-07-05T13:27:34.899Z"
   },
   {
    "duration": 522,
    "start_time": "2023-07-05T13:30:26.845Z"
   },
   {
    "duration": 10,
    "start_time": "2023-07-05T13:34:04.699Z"
   },
   {
    "duration": 10,
    "start_time": "2023-07-05T13:35:26.104Z"
   },
   {
    "duration": 513,
    "start_time": "2023-07-05T13:35:27.552Z"
   },
   {
    "duration": 12,
    "start_time": "2023-07-05T13:35:41.765Z"
   },
   {
    "duration": 525,
    "start_time": "2023-07-05T13:35:45.318Z"
   },
   {
    "duration": 18,
    "start_time": "2023-07-05T13:41:12.963Z"
   },
   {
    "duration": 11,
    "start_time": "2023-07-05T13:45:03.119Z"
   },
   {
    "duration": 11,
    "start_time": "2023-07-05T13:45:46.185Z"
   },
   {
    "duration": 144,
    "start_time": "2023-07-05T13:46:01.611Z"
   },
   {
    "duration": 246,
    "start_time": "2023-07-05T13:46:06.148Z"
   },
   {
    "duration": 906,
    "start_time": "2023-07-05T13:46:11.304Z"
   },
   {
    "duration": 1477,
    "start_time": "2023-07-05T19:00:27.155Z"
   },
   {
    "duration": 3,
    "start_time": "2023-07-05T19:00:32.319Z"
   },
   {
    "duration": 79,
    "start_time": "2023-07-05T19:00:34.512Z"
   },
   {
    "duration": 34,
    "start_time": "2023-07-05T19:00:38.199Z"
   },
   {
    "duration": 7,
    "start_time": "2023-07-05T19:00:41.000Z"
   },
   {
    "duration": 61,
    "start_time": "2023-07-05T19:00:43.204Z"
   },
   {
    "duration": 5,
    "start_time": "2023-07-05T19:00:46.071Z"
   },
   {
    "duration": 13,
    "start_time": "2023-07-05T19:00:48.605Z"
   },
   {
    "duration": 16,
    "start_time": "2023-07-05T19:00:52.505Z"
   },
   {
    "duration": 4,
    "start_time": "2023-07-05T19:01:01.078Z"
   },
   {
    "duration": 11,
    "start_time": "2023-07-05T19:01:06.408Z"
   },
   {
    "duration": 393,
    "start_time": "2023-07-05T19:01:12.119Z"
   },
   {
    "duration": 10,
    "start_time": "2023-07-05T19:02:40.100Z"
   },
   {
    "duration": 608,
    "start_time": "2023-07-05T19:02:44.196Z"
   },
   {
    "duration": 10,
    "start_time": "2023-07-05T19:04:51.556Z"
   },
   {
    "duration": 470,
    "start_time": "2023-07-05T19:04:54.308Z"
   },
   {
    "duration": 9,
    "start_time": "2023-07-05T19:08:43.604Z"
   },
   {
    "duration": 416,
    "start_time": "2023-07-05T19:08:46.674Z"
   },
   {
    "duration": 4,
    "start_time": "2023-07-05T19:10:43.566Z"
   },
   {
    "duration": 388,
    "start_time": "2023-07-05T19:12:21.432Z"
   },
   {
    "duration": 286,
    "start_time": "2023-07-05T19:14:54.214Z"
   },
   {
    "duration": 250,
    "start_time": "2023-07-05T19:17:11.940Z"
   },
   {
    "duration": 240,
    "start_time": "2023-07-05T19:18:07.546Z"
   },
   {
    "duration": 316,
    "start_time": "2023-07-05T19:18:42.040Z"
   },
   {
    "duration": 87277,
    "start_time": "2023-07-05T19:22:08.387Z"
   },
   {
    "duration": 54681,
    "start_time": "2023-07-05T19:26:29.300Z"
   },
   {
    "duration": 124,
    "start_time": "2023-07-05T19:29:14.288Z"
   },
   {
    "duration": 8,
    "start_time": "2023-07-05T19:36:26.637Z"
   },
   {
    "duration": 10,
    "start_time": "2023-07-05T19:36:35.823Z"
   },
   {
    "duration": 97,
    "start_time": "2023-07-05T19:37:00.232Z"
   },
   {
    "duration": 4,
    "start_time": "2023-07-05T19:40:28.301Z"
   },
   {
    "duration": 4,
    "start_time": "2023-07-05T19:41:04.273Z"
   },
   {
    "duration": 5,
    "start_time": "2023-07-05T19:41:24.436Z"
   },
   {
    "duration": 12,
    "start_time": "2023-07-05T19:42:55.695Z"
   },
   {
    "duration": 256,
    "start_time": "2023-07-05T19:42:57.854Z"
   },
   {
    "duration": 13,
    "start_time": "2023-07-05T19:43:22.501Z"
   },
   {
    "duration": 239,
    "start_time": "2023-07-05T19:43:26.015Z"
   },
   {
    "duration": 11,
    "start_time": "2023-07-05T19:43:39.665Z"
   },
   {
    "duration": 237,
    "start_time": "2023-07-05T19:43:48.433Z"
   },
   {
    "duration": 100,
    "start_time": "2023-07-05T19:44:17.957Z"
   },
   {
    "duration": 239,
    "start_time": "2023-07-05T19:44:21.414Z"
   },
   {
    "duration": 14,
    "start_time": "2023-07-05T19:46:15.303Z"
   },
   {
    "duration": 236,
    "start_time": "2023-07-05T19:46:18.299Z"
   },
   {
    "duration": 6,
    "start_time": "2023-07-05T19:49:37.637Z"
   },
   {
    "duration": 4,
    "start_time": "2023-07-05T19:49:49.248Z"
   },
   {
    "duration": 209,
    "start_time": "2023-07-05T19:51:54.157Z"
   },
   {
    "duration": 152,
    "start_time": "2023-07-05T19:53:31.707Z"
   },
   {
    "duration": 154,
    "start_time": "2023-07-05T19:54:35.929Z"
   },
   {
    "duration": 15,
    "start_time": "2023-07-05T20:00:13.245Z"
   },
   {
    "duration": 14,
    "start_time": "2023-07-05T20:00:38.507Z"
   },
   {
    "duration": 115,
    "start_time": "2023-07-05T20:01:27.722Z"
   },
   {
    "duration": 2129,
    "start_time": "2023-07-05T20:02:16.212Z"
   },
   {
    "duration": 3,
    "start_time": "2023-07-05T20:02:18.344Z"
   },
   {
    "duration": 50,
    "start_time": "2023-07-05T20:02:18.348Z"
   },
   {
    "duration": 11,
    "start_time": "2023-07-05T20:02:18.400Z"
   },
   {
    "duration": 9,
    "start_time": "2023-07-05T20:02:18.413Z"
   },
   {
    "duration": 147,
    "start_time": "2023-07-05T20:02:18.424Z"
   },
   {
    "duration": 4,
    "start_time": "2023-07-05T20:02:18.573Z"
   },
   {
    "duration": 21,
    "start_time": "2023-07-05T20:02:18.579Z"
   },
   {
    "duration": 23,
    "start_time": "2023-07-05T20:02:18.602Z"
   },
   {
    "duration": 11,
    "start_time": "2023-07-05T20:02:18.627Z"
   },
   {
    "duration": 15,
    "start_time": "2023-07-05T20:02:18.640Z"
   },
   {
    "duration": 216,
    "start_time": "2023-07-05T20:02:18.658Z"
   },
   {
    "duration": 4,
    "start_time": "2023-07-05T20:02:18.875Z"
   },
   {
    "duration": 104,
    "start_time": "2023-07-05T20:02:18.882Z"
   },
   {
    "duration": 13,
    "start_time": "2023-07-05T20:02:18.988Z"
   },
   {
    "duration": 20,
    "start_time": "2023-07-05T20:02:19.003Z"
   },
   {
    "duration": 86,
    "start_time": "2023-07-05T20:02:19.025Z"
   },
   {
    "duration": 4,
    "start_time": "2023-07-05T20:02:19.112Z"
   },
   {
    "duration": 15,
    "start_time": "2023-07-05T20:02:19.118Z"
   },
   {
    "duration": 23,
    "start_time": "2023-07-05T20:02:19.135Z"
   },
   {
    "duration": 15,
    "start_time": "2023-07-05T20:02:19.159Z"
   },
   {
    "duration": 23,
    "start_time": "2023-07-05T20:02:19.175Z"
   },
   {
    "duration": 189,
    "start_time": "2023-07-05T20:02:19.200Z"
   },
   {
    "duration": 138,
    "start_time": "2023-07-05T20:02:19.391Z"
   },
   {
    "duration": 24,
    "start_time": "2023-07-05T20:02:19.531Z"
   },
   {
    "duration": 339,
    "start_time": "2023-07-05T20:02:19.557Z"
   },
   {
    "duration": 246,
    "start_time": "2023-07-05T20:02:19.898Z"
   },
   {
    "duration": 329,
    "start_time": "2023-07-05T20:02:20.146Z"
   },
   {
    "duration": 245,
    "start_time": "2023-07-05T20:02:20.477Z"
   },
   {
    "duration": 339,
    "start_time": "2023-07-05T20:02:20.724Z"
   },
   {
    "duration": 10,
    "start_time": "2023-07-05T20:02:21.065Z"
   },
   {
    "duration": 188,
    "start_time": "2023-07-05T20:02:21.077Z"
   },
   {
    "duration": 5,
    "start_time": "2023-07-05T20:02:21.267Z"
   },
   {
    "duration": 243,
    "start_time": "2023-07-05T20:02:21.273Z"
   },
   {
    "duration": 5,
    "start_time": "2023-07-05T20:02:21.518Z"
   },
   {
    "duration": 261,
    "start_time": "2023-07-05T20:02:21.525Z"
   },
   {
    "duration": 133,
    "start_time": "2023-07-05T20:02:21.788Z"
   },
   {
    "duration": 6,
    "start_time": "2023-07-05T20:02:21.923Z"
   },
   {
    "duration": 48,
    "start_time": "2023-07-05T20:02:21.931Z"
   },
   {
    "duration": 59,
    "start_time": "2023-07-05T20:02:21.981Z"
   },
   {
    "duration": 38,
    "start_time": "2023-07-05T20:02:22.044Z"
   },
   {
    "duration": 32,
    "start_time": "2023-07-05T20:02:22.084Z"
   },
   {
    "duration": 38,
    "start_time": "2023-07-05T20:02:22.118Z"
   },
   {
    "duration": 50,
    "start_time": "2023-07-05T20:02:22.158Z"
   },
   {
    "duration": 21,
    "start_time": "2023-07-05T20:02:22.210Z"
   },
   {
    "duration": 16,
    "start_time": "2023-07-05T20:03:11.242Z"
   },
   {
    "duration": 21,
    "start_time": "2023-07-05T20:03:25.317Z"
   },
   {
    "duration": 157,
    "start_time": "2023-07-05T20:04:24.932Z"
   },
   {
    "duration": 153,
    "start_time": "2023-07-05T20:04:35.287Z"
   },
   {
    "duration": 1174,
    "start_time": "2023-07-06T06:35:28.226Z"
   },
   {
    "duration": 3,
    "start_time": "2023-07-06T06:35:29.402Z"
   },
   {
    "duration": 80,
    "start_time": "2023-07-06T06:35:29.406Z"
   },
   {
    "duration": 8,
    "start_time": "2023-07-06T06:35:29.488Z"
   },
   {
    "duration": 28,
    "start_time": "2023-07-06T06:35:29.498Z"
   },
   {
    "duration": 81,
    "start_time": "2023-07-06T06:35:29.528Z"
   },
   {
    "duration": 7,
    "start_time": "2023-07-06T06:35:29.611Z"
   },
   {
    "duration": 32,
    "start_time": "2023-07-06T06:35:29.619Z"
   },
   {
    "duration": 38,
    "start_time": "2023-07-06T06:35:29.653Z"
   },
   {
    "duration": 34,
    "start_time": "2023-07-06T06:35:29.694Z"
   },
   {
    "duration": 172,
    "start_time": "2023-07-06T06:35:29.729Z"
   },
   {
    "duration": 3,
    "start_time": "2023-07-06T06:35:29.902Z"
   },
   {
    "duration": 171,
    "start_time": "2023-07-06T06:35:29.906Z"
   },
   {
    "duration": 11,
    "start_time": "2023-07-06T06:35:30.078Z"
   },
   {
    "duration": 56,
    "start_time": "2023-07-06T06:35:30.090Z"
   },
   {
    "duration": 126,
    "start_time": "2023-07-06T06:35:30.148Z"
   },
   {
    "duration": 4,
    "start_time": "2023-07-06T06:35:30.276Z"
   },
   {
    "duration": 68,
    "start_time": "2023-07-06T06:35:30.282Z"
   },
   {
    "duration": 85,
    "start_time": "2023-07-06T06:35:30.351Z"
   },
   {
    "duration": 46,
    "start_time": "2023-07-06T06:35:30.438Z"
   },
   {
    "duration": 64,
    "start_time": "2023-07-06T06:35:30.486Z"
   },
   {
    "duration": 205,
    "start_time": "2023-07-06T06:35:30.552Z"
   },
   {
    "duration": 104,
    "start_time": "2023-07-06T06:35:30.759Z"
   },
   {
    "duration": 13,
    "start_time": "2023-07-06T06:35:30.864Z"
   },
   {
    "duration": 300,
    "start_time": "2023-07-06T06:35:30.879Z"
   },
   {
    "duration": 181,
    "start_time": "2023-07-06T06:35:31.181Z"
   },
   {
    "duration": 355,
    "start_time": "2023-07-06T06:35:31.364Z"
   },
   {
    "duration": 189,
    "start_time": "2023-07-06T06:35:31.722Z"
   },
   {
    "duration": 289,
    "start_time": "2023-07-06T06:35:31.912Z"
   },
   {
    "duration": 9,
    "start_time": "2023-07-06T06:35:32.203Z"
   },
   {
    "duration": 153,
    "start_time": "2023-07-06T06:35:32.214Z"
   },
   {
    "duration": 3,
    "start_time": "2023-07-06T06:35:32.369Z"
   },
   {
    "duration": 187,
    "start_time": "2023-07-06T06:35:32.374Z"
   },
   {
    "duration": 3,
    "start_time": "2023-07-06T06:35:32.563Z"
   },
   {
    "duration": 201,
    "start_time": "2023-07-06T06:35:32.568Z"
   },
   {
    "duration": 112,
    "start_time": "2023-07-06T06:35:32.770Z"
   },
   {
    "duration": 16,
    "start_time": "2023-07-06T06:35:32.883Z"
   },
   {
    "duration": 19,
    "start_time": "2023-07-06T06:35:32.900Z"
   },
   {
    "duration": 65,
    "start_time": "2023-07-06T06:35:32.920Z"
   },
   {
    "duration": 9,
    "start_time": "2023-07-06T06:35:32.987Z"
   },
   {
    "duration": 34,
    "start_time": "2023-07-06T06:35:32.997Z"
   },
   {
    "duration": 41,
    "start_time": "2023-07-06T06:35:33.032Z"
   },
   {
    "duration": 43,
    "start_time": "2023-07-06T06:35:33.074Z"
   },
   {
    "duration": 38,
    "start_time": "2023-07-06T06:35:33.118Z"
   },
   {
    "duration": 8,
    "start_time": "2023-07-06T06:39:25.239Z"
   }
  ],
  "kernelspec": {
   "display_name": "Python 3 (ipykernel)",
   "language": "python",
   "name": "python3"
  },
  "language_info": {
   "codemirror_mode": {
    "name": "ipython",
    "version": 3
   },
   "file_extension": ".py",
   "mimetype": "text/x-python",
   "name": "python",
   "nbconvert_exporter": "python",
   "pygments_lexer": "ipython3",
   "version": "3.9.13"
  },
  "toc": {
   "base_numbering": 1,
   "nav_menu": {},
   "number_sections": true,
   "sideBar": true,
   "skip_h1_title": true,
   "title_cell": "Table of Contents",
   "title_sidebar": "Contents",
   "toc_cell": false,
   "toc_position": {},
   "toc_section_display": true,
   "toc_window_display": true
  }
 },
 "nbformat": 4,
 "nbformat_minor": 2
}
